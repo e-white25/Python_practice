{
  "nbformat": 4,
  "nbformat_minor": 0,
  "metadata": {
    "colab": {
      "provenance": [],
      "include_colab_link": true
    },
    "kernelspec": {
      "name": "python3",
      "display_name": "Python 3"
    },
    "language_info": {
      "name": "python"
    }
  },
  "cells": [
    {
      "cell_type": "markdown",
      "metadata": {
        "id": "view-in-github",
        "colab_type": "text"
      },
      "source": [
        "<a href=\"https://colab.research.google.com/github/e-white25/Python_practice/blob/main/FASTA_FASTQ_technical_practice.ipynb\" target=\"_parent\"><img src=\"https://colab.research.google.com/assets/colab-badge.svg\" alt=\"Open In Colab\"/></a>"
      ]
    },
    {
      "cell_type": "markdown",
      "source": [],
      "metadata": {
        "id": "BHgybQv4LbRb"
      }
    },
    {
      "cell_type": "markdown",
      "source": [
        "# Problem 1: FASTA Reverse Complement Challenge\n",
        "## Background\n",
        "FASTA files are commonly used to store nucleotide sequences in bioinformatics. Each sequence consists of an identifier line (starting with >), followed by one or more lines of nucleotides (A, T, C, G). A fundamental operation in sequence analysis is generating the reverse complement of a DNA sequence:\n",
        "\n",
        "*   Complement: Replace each base with its complement (A↔T, C↔G).\n",
        "*   Reverse: Reverse the complemented sequence.\n",
        "\n",
        "For example:\n",
        "\n",
        "```\n",
        "Original: ATCG\n",
        "Complement: TAGC\n",
        "Reverse complement: CGAT\n",
        "```\n",
        "Your task is to parse a FASTA file and produce the reverse complement of each sequence.\n",
        "\n",
        "## Task Description\n",
        "Read a standard FASTA file (provided below). For each sequence:\n",
        "\n",
        "*   Compute its reverse complement\n",
        "*   Output the result in FASTA format with the same header/identifier\n",
        "*   Write the output to a new file called 'reverse_complement.fasta'.\n",
        "\n",
        "```\n",
        ">@LH00469:425:22WK5TLT4:8:1101:13025:1056 1:N:0:GTCTAATGGC+CCTGACCACT\n",
        "GATTGAGGGCAGCACCATCTACCACAAGACCGAGTACCGCGAGCGCCGCAACCATTACGCATTGTTCACCGTCAACACGCCCATTGACGGCTTTGACACGAGCCGGGACGCCTTTTTAGGCGCATGGCGCAGCAATGCGAACCCCGAGGTC\n",
        ">@LH00469:425:22WK5TLT4:8:1101:16650:1056 1:N:0:GTCTAATGGC+CCTGACCACT\n",
        "CAGCCACGCTCATGCCGATGCCTGTGCAGAGGATGGCAAGCAGACGCGGCAGGCGGGAGATCAGAAAGATCTCCCATGTTTCCACGCTGCCTGTAAACAGGTCAGAAGGCCGGATGTCCAGCACCCCGACAAACAAAGAACAAACCGAAAG\n",
        "```\n",
        "## Requirements\n",
        "\n",
        "1.   Your script should accept the FASTA file path as a command-line argument.\n",
        "2.   Preserve the original identifiers (lines starting with >).\n",
        "\n",
        "## Expected Output\n",
        "Input (example.fasta):\n",
        "\n",
        "```\n",
        ">seq1\n",
        "ATGCCGTAGC\n",
        ">seq2\n",
        "GGTTAACC\n",
        "```\n",
        "\n",
        "Expected output:\n",
        "```\n",
        ">seq1\n",
        "GCTACGGCAT\n",
        ">seq2\n",
        "GGTTTAACC\n",
        "```\n",
        "\n",
        "## Hint\n",
        "Use a dictionary to map each base to its complement:\n",
        "\n",
        "``` python\n",
        "complement = {'A': 'T', 'T': 'A', 'C': 'G', 'G': 'C'}\n",
        "```\n"
      ],
      "metadata": {
        "id": "ezoSebdeEPO3"
      }
    },
    {
      "cell_type": "markdown",
      "source": [
        "Going off-script for a solid bit to practice maniuplating fastq files"
      ],
      "metadata": {
        "id": "qnc43vlGbjLQ"
      }
    },
    {
      "cell_type": "code",
      "source": [
        "# 1) write fastq file contents into a fasta file format:\n",
        "fastq_text = \"\"\"\n",
        "@LH00469:425:22WK5TLT4:8:1101:13025:1056 1:N:0:GTCTAATGGC+CCTGACCACT\n",
        "GATTGAGGGCAGCACCATCTACCACAAGACCGAGTACCGCGAGCGCCGCAACCATTACGCATTGTTCACCGTCAACACGCCCATTGACGGCTTTGACACGAGCCGGGACGCCTTTTTAGGCGCATGGCGCAGCAATGCGAACCCCGAGGTC\n",
        "@LH00469:425:22WK5TLT4:8:1101:16650:1056 1:N:0:GTCTAATGGC+CCTGACCACT\n",
        "CAGCCACGCTCATGCCGATGCCTGTGCAGAGGATGGCAAGCAGACGCGGCAGGCGGGAGATCAGAAAGATCTCCCATGTTTCCACGCTGCCTGTAAACAGGTCAGAAGGCCGGATGTCCAGCACCCCGACAAACAAAGAACAAACCGAAAG\n",
        "\"\"\"\n",
        "#2) to run bash commands, write text to file:\n",
        "with open(\"test.fastq\", \"w\") as f:\n",
        "    f.write(fastq_text.strip())"
      ],
      "metadata": {
        "id": "kP6k-nJEKT6U"
      },
      "execution_count": null,
      "outputs": []
    },
    {
      "cell_type": "code",
      "source": [
        "!head test.fastq"
      ],
      "metadata": {
        "colab": {
          "base_uri": "https://localhost:8080/"
        },
        "id": "4Ws-XORlLbwH",
        "outputId": "30ac8378-8241-4d53-9678-a1827fdd5766"
      },
      "execution_count": null,
      "outputs": [
        {
          "output_type": "stream",
          "name": "stdout",
          "text": [
            "@LH00469:425:22WK5TLT4:8:1101:13025:1056 1:N:0:GTCTAATGGC+CCTGACCACT\n",
            "GATTGAGGGCAGCACCATCTACCACAAGACCGAGTACCGCGAGCGCCGCAACCATTACGCATTGTTCACCGTCAACACGCCCATTGACGGCTTTGACACGAGCCGGGACGCCTTTTTAGGCGCATGGCGCAGCAATGCGAACCCCGAGGTC\n",
            "@LH00469:425:22WK5TLT4:8:1101:16650:1056 1:N:0:GTCTAATGGC+CCTGACCACT\n",
            "CAGCCACGCTCATGCCGATGCCTGTGCAGAGGATGGCAAGCAGACGCGGCAGGCGGGAGATCAGAAAGATCTCCCATGTTTCCACGCTGCCTGTAAACAGGTCAGAAGGCCGGATGTCCAGCACCCCGACAAACAAAGAACAAACCGAAAG"
          ]
        }
      ]
    },
    {
      "cell_type": "code",
      "source": [
        "#3) output fasta file from fastq (bash)\n",
        "     # -A1 grab header + 1 sequence line after; (grep -v '^\\+' would remove quality scores if they were present)\n",
        "     # sed -e 's/:.*$//' removes everything after the colon, including the colon\n",
        "     # .* any number of characters up to end of line ($)\n",
        "\n",
        "!grep -A1 '^@' test.fastq | sed -e 's/^@/>/' -e 's/:.*$//' > test.fasta\n",
        "!head test.fasta"
      ],
      "metadata": {
        "colab": {
          "base_uri": "https://localhost:8080/"
        },
        "id": "LNWdPAjcLxfI",
        "outputId": "35e6089d-3d99-4f9f-99c6-3c2bfb4b3434"
      },
      "execution_count": null,
      "outputs": [
        {
          "output_type": "stream",
          "name": "stdout",
          "text": [
            ">LH00469\n",
            "GATTGAGGGCAGCACCATCTACCACAAGACCGAGTACCGCGAGCGCCGCAACCATTACGCATTGTTCACCGTCAACACGCCCATTGACGGCTTTGACACGAGCCGGGACGCCTTTTTAGGCGCATGGCGCAGCAATGCGAACCCCGAGGTC\n",
            ">LH00469\n",
            "CAGCCACGCTCATGCCGATGCCTGTGCAGAGGATGGCAAGCAGACGCGGCAGGCGGGAGATCAGAAAGATCTCCCATGTTTCCACGCTGCCTGTAAACAGGTCAGAAGGCCGGATGTCCAGCACCCCGACAAACAAAGAACAAACCGAAAG\n"
          ]
        }
      ]
    },
    {
      "cell_type": "code",
      "source": [
        "#practice fastq > fasta in python where seq is kept as a string for manipulation\n",
        "\n",
        "fasta_lines = [] #create empty list\n",
        "lines = fastq_text.strip().split(\"\\n\")  # remove any white space, split text into lines\n",
        "\n",
        "for i in range(0, len(lines), 2): # Iterate over lines, steps of 2 (header + sequence)\n",
        "    header = \">\" + lines[i].split()[0][1:].split(\":\")[0]\n",
        "    # assign > to headers; select ith line; split to select only the first field [0]; remove 1st character (@) [1:]; split(\":\") keeps only label after :\n",
        "    seq = lines[i+1] #assigns line after ith line \"seq\" data\n",
        "    fasta_lines.append(header)\n",
        "    fasta_lines.append(seq)\n",
        "\n",
        "    fasta_text = \"\\n\".join(fasta_lines) # convert to text to save as file\n",
        "\n",
        "with open (\"fasta_file\", \"w\") as f: #option to write text to file\n",
        "  f.write(fasta_text)"
      ],
      "metadata": {
        "id": "vlrGycaNRq9Q"
      },
      "execution_count": null,
      "outputs": []
    },
    {
      "cell_type": "code",
      "source": [
        "!head fasta_file"
      ],
      "metadata": {
        "colab": {
          "base_uri": "https://localhost:8080/"
        },
        "id": "cYpYveFpX0P7",
        "outputId": "94a44f78-0880-4e1b-e1a6-0400b273d23f"
      },
      "execution_count": null,
      "outputs": [
        {
          "output_type": "stream",
          "name": "stdout",
          "text": [
            ">LH00469\n",
            "GATTGAGGGCAGCACCATCTACCACAAGACCGAGTACCGCGAGCGCCGCAACCATTACGCATTGTTCACCGTCAACACGCCCATTGACGGCTTTGACACGAGCCGGGACGCCTTTTTAGGCGCATGGCGCAGCAATGCGAACCCCGAGGTC\n",
            ">LH00469\n",
            "CAGCCACGCTCATGCCGATGCCTGTGCAGAGGATGGCAAGCAGACGCGGCAGGCGGGAGATCAGAAAGATCTCCCATGTTTCCACGCTGCCTGTAAACAGGTCAGAAGGCCGGATGTCCAGCACCCCGACAAACAAAGAACAAACCGAAAG"
          ]
        }
      ]
    },
    {
      "cell_type": "code",
      "source": [
        "#practice again but with function (@LH00469:425:22WK5TLT4:8:1101:13025:1056 1:N:0:GTCTAATGGC+CCTGACCACT \\n GATTGAGGGCAGCACCATCTACCACAAGACCGAGTACCGCGAGCGCCGCAACCATTACGCATTGTTCAC)\n",
        "\n",
        "fastq_text = \"\"\"@LH00469:425:22WK5TLT4:8:1101:13025:1056 1:N:0:GTCTAATGGC+CCTGACCACT\n",
        "GATTGAGGGCAGCACCATCTACCACAAGACCGAGTACCGCGAGCGCCGCAACCATTACGCATTGTTCACCGTCAACACGCCCATTGACGGCTTTGACACGAGCCGGGACGCCTTTTTAGGCGCATGGCGCAGCAATGCGAACCCCGAGGTC\n",
        "@LH00469:425:22WK5TLT4:8:1101:16650:1056 1:N:0:GTCTAATGGC+CCTGACCACT\n",
        "CAGCCACGCTCATGCCGATGCCTGTGCAGAGGATGGCAAGCAGACGCGGCAGGCGGGAGATCAGAAAGATCTCCCATGTTTCCACGCTGCCTGTAAACAGGTCAGAAGGCCGGATGTCCAGCACCCCGACAAACAAAGAACAAACCGAAAG\"\"\"\n",
        "\n",
        "with open(\"fastq_file\", \"w\") as f:\n",
        "  f.write(fastq_text)\n",
        "\n",
        "\n",
        "def fastq_to_fasta(input_fastq, output_fasta):\n",
        "  with open(input_fastq, \"r\") as fin, open (output_fasta, \"w\") as fout: #assign fin/fout variables to files\n",
        "    while True:\n",
        "      header = fin.readline()\n",
        "      if not header:\n",
        "        break\n",
        "      seq = fin.readline()\n",
        "      #plus = fin.readline() # would ignore line if present\n",
        "      #qual = fin.readline() # would ignore if present\n",
        "      ID = header.strip().split()[0][1:].split(\":\")[0]\n",
        "      fout.write(f\">{ID}\\n{seq.strip()}\\n\")\n",
        "  return\n"
      ],
      "metadata": {
        "id": "b1HAjEr94M1c"
      },
      "execution_count": null,
      "outputs": []
    },
    {
      "cell_type": "code",
      "source": [
        "fastq_to_fasta(\"fastq_file\", \"output_fasta\")"
      ],
      "metadata": {
        "id": "35G3qySvEc9j"
      },
      "execution_count": null,
      "outputs": []
    },
    {
      "cell_type": "code",
      "source": [
        "!head output_fasta"
      ],
      "metadata": {
        "colab": {
          "base_uri": "https://localhost:8080/"
        },
        "id": "-oode0ddG-RN",
        "outputId": "80850ef1-2f08-4bf5-815b-d888455131c8"
      },
      "execution_count": null,
      "outputs": [
        {
          "output_type": "stream",
          "name": "stdout",
          "text": [
            ">LH00469\n",
            "GATTGAGGGCAGCACCATCTACCACAAGACCGAGTACCGCGAGCGCCGCAACCATTACGCATTGTTCACCGTCAACACGCCCATTGACGGCTTTGACACGAGCCGGGACGCCTTTTTAGGCGCATGGCGCAGCAATGCGAACCCCGAGGTC\n",
            ">LH00469\n",
            "CAGCCACGCTCATGCCGATGCCTGTGCAGAGGATGGCAAGCAGACGCGGCAGGCGGGAGATCAGAAAGATCTCCCATGTTTCCACGCTGCCTGTAAACAGGTCAGAAGGCCGGATGTCCAGCACCCCGACAAACAAAGAACAAACCGAAAG\n"
          ]
        }
      ]
    },
    {
      "cell_type": "code",
      "source": [
        "#AGAIN (feeling ruuuusty) but keep 16650 (x coordinate of Illumina cluster) to differentiate reads\n",
        "\n",
        "fastq_text2 = \"\"\"@LH00444:425:22WK5TLT4:8:1101:13025:1056 1:N:0:GTCTAATGGC+CCTGACCACT\n",
        "GATTGAGGGCAGCACCATCTACCACAAGACCGAGTACCGCGAGCGCCGCAACCATTACGCATTGTTCACCGTCAACACGCCCATTGACGGCTTTGACACGAGCCGGGACGCCTTTTTAGGCGCATGGCGCAGCAATGCGAACCCCGAGGTC\n",
        "@LH00444:425:22WK5TLT4:8:1101:16650:1056 1:N:0:GTCTAATGGC+CCTGACCACT\n",
        "CAGCCACGCTCATGCCGATGCCTGTGCAGAGGATGGCAAGCAGACGCGGCAGGCGGGAGATCAGAAAGATCTCCCATGTTTCCACGCTGCCTGTAAACAGGTCAGAAGGCCGGATGTCCAGCACCCCGACAAACAAAGAACAAACCGAAAG\"\"\"\n",
        "\n",
        "with open(\"fastq_text2\", \"w\") as f:\n",
        "  f.write(fastq_text2)\n",
        "\n",
        "def fastq_to_fasta2(input_2, output_2):\n",
        "  \"\"\"Convert 2-line FASTQ (header + seq) to FASTA.\n",
        "    Header: >{id_after_@}{sep}{x_coord}\n",
        "    Example: >LH00444:16650\n",
        "  \"\"\"\n",
        "  with open(input_2, \"r\") as fin, open(output_2, \"w\") as fout: #read is default; don't technically need \"r\"\n",
        "    while True:\n",
        "      header_line = fin.readline()\n",
        "      if not header_line:\n",
        "        break\n",
        "      header_line = header_line.strip()\n",
        "      header_comps = header_line.split()[0] #first line as a string\n",
        "      header = header_comps[1:].split(\":\") #drop '@', split at sep(:)\n",
        "      ID = header[0]\n",
        "      x_coord = header[5]\n",
        "\n",
        "      seq_line= fin.readline() #read next line in sequence (could use this logic if there was a + and qual line in the fastq)\n",
        "      seq = seq_line.strip()\n",
        "      if not seq_line:\n",
        "        break\n",
        "      fout.write(f\">{ID}:{x_coord}\\n{seq}\\n\")\n",
        "  return\n"
      ],
      "metadata": {
        "id": "831gJzx4HjKI"
      },
      "execution_count": null,
      "outputs": []
    },
    {
      "cell_type": "markdown",
      "source": [
        "#Recurring error:  cannot apply split functon to a list\n",
        "\n",
        "Issue is header_line.split()[1:] is SLICING the line by whitespace: \\\n",
        "['@LH00444:...', '1:N:0:GTCTA'][1:] \\\n",
        " → ['1:N:0:GTCTA']\n",
        "\n",
        "whereas header_line.split()[0] is using indexing and retains string quality: \\\n",
        "first_token = header_line.split()[0]    \\\n",
        "['1:N:0:GTCTA'] \\\n",
        " → '@LH00444:425:22WK5TLT4:8:1101:16650:1056'"
      ],
      "metadata": {
        "id": "lSHNSWqAXoLk"
      }
    },
    {
      "cell_type": "code",
      "source": [
        "fastq_to_fasta2(\"fastq_text2\", \"fasta_text2\")\n",
        "!head fasta_text2"
      ],
      "metadata": {
        "colab": {
          "base_uri": "https://localhost:8080/"
        },
        "id": "y3QLOHwNQpR_",
        "outputId": "c6012861-2c4d-4c34-80ae-be4797e02759"
      },
      "execution_count": null,
      "outputs": [
        {
          "output_type": "stream",
          "name": "stdout",
          "text": [
            ">LH00444:13025\n",
            "GATTGAGGGCAGCACCATCTACCACAAGACCGAGTACCGCGAGCGCCGCAACCATTACGCATTGTTCACCGTCAACACGCCCATTGACGGCTTTGACACGAGCCGGGACGCCTTTTTAGGCGCATGGCGCAGCAATGCGAACCCCGAGGTC\n",
            ">LH00444:16650\n",
            "CAGCCACGCTCATGCCGATGCCTGTGCAGAGGATGGCAAGCAGACGCGGCAGGCGGGAGATCAGAAAGATCTCCCATGTTTCCACGCTGCCTGTAAACAGGTCAGAAGGCCGGATGTCCAGCACCCCGACAAACAAAGAACAAACCGAAAG\n"
          ]
        }
      ]
    },
    {
      "cell_type": "code",
      "source": [
        "# Answer Problem 1 here:\n",
        "complement = {'A': 'T', 'T': 'A', 'C': 'G', 'G': 'C'}\n",
        "\n",
        "#read fasta\n",
        "def rev_complement(fasta_file, output_file=\"reverse_complement.fasta\"):\n",
        "  rev_comp_lines = []\n",
        "  with open(fasta_file, 'r') as f:\n",
        "    for line in f:\n",
        "      line = line.strip()\n",
        "      if line.startswith('>'):\n",
        "        rev_comp_lines.append(line)\n",
        "      else:\n",
        "          seq = line.strip()\n",
        "          rev_comp_seq = ''\n",
        "          for base in seq:\n",
        "            rev_comp_seq += complement.get(base, 'N') #key is base, from dictionary; if base is not in dictionary, return N instead of error\n",
        "          rev_comp_lines.append(rev_comp_seq[::-1])\n",
        "\n",
        "#return rev_comp_lines\n",
        "\n",
        "#rev_complement(fasta_text) - gives error - too long\n",
        "\n",
        "  with open(output_file, 'w') as out_fasta:\n",
        "        for line in rev_comp_lines:\n",
        "          out_fasta.write(line + \"\\n\")"
      ],
      "metadata": {
        "id": "2VY1HtiQQ5ww"
      },
      "execution_count": null,
      "outputs": []
    },
    {
      "cell_type": "code",
      "source": [
        "rev_complement(\"test.fasta\")\n",
        "!head reverse_complement.fasta"
      ],
      "metadata": {
        "colab": {
          "base_uri": "https://localhost:8080/"
        },
        "id": "6uqO4ns6dRn1",
        "outputId": "44143b2e-0902-4b30-ad90-b76397440eb3"
      },
      "execution_count": null,
      "outputs": [
        {
          "output_type": "stream",
          "name": "stdout",
          "text": [
            ">LH00469\n",
            "GACCTCGGGGTTCGCATTGCTGCGCCATGCGCCTAAAAAGGCGTCCCGGCTCGTGTCAAAGCCGTCAATGGGCGTGTTGACGGTGAACAATGCGTAATGGTTGCGGCGCTCGCGGTACTCGGTCTTGTGGTAGATGGTGCTGCCCTCAATC\n",
            ">LH00469\n",
            "CTTTCGGTTTGTTCTTTGTTTGTCGGGGTGCTGGACATCCGGCCTTCTGACCTGTTTACAGGCAGCGTGGAAACATGGGAGATCTTTCTGATCTCCCGCCTGCCGCGTCTGCTTGCCATCCTCTGCACAGGCATCGGCATGAGCGTGGCTG\n"
          ]
        }
      ]
    },
    {
      "cell_type": "markdown",
      "source": [
        "# Problem 2: FASTQ Q Score\n",
        "\n",
        "## Background\n",
        "\n",
        "In next-generation sequencing (NGS), FASTQ files are used to store biological sequence data, along with quality scores for each base. The Phred quality score, or Q score, is a measurement of base calling accuracy. Each Q score is encoded as ASCII characters and is commonly presented as a Q30 value, which corresponds to a base call accuracy of 99.9%.\n",
        "\n",
        "Your task is to write a script that calculates the percentage of bases with Q30 or higher in a given FASTQ file.\n",
        "\n",
        "## Task Description\n",
        "### Read a standard FASTQ file below.\n",
        "\n",
        "Parse the quality lines to extract Phred scores (ASCII 33 offset).\n",
        "\n",
        "Computes the total number of bases and the number of bases with Phred score ≥ 30 (Q30).\n",
        "\n",
        "Outputs the percentage of Q30 bases rounded to two decimal places.\n",
        "\n",
        "standard FASTQ file\n",
        "```\n",
        "@LH00469:425:22WK5TLT4:8:1101:13025:1056 1:N:0:GTCTAATGGC+CCTGACCACT\n",
        "GATTGAGGGCAGCACCATCTACCACAAGACCGAGTACCGCGAGCGCCGCAACCATTACGCATTGTTCACCGTCAACACGCCCATTGACGGCTTTGACACGAGCCGGGACGCCTTTTTAGGCGCATGGCGCAGCAATGCGAACCCCGAGGTC\n",
        "+\n",
        "I#IIIIIIIIIIIIIIIIIIIII9I9IIIIIIIIIIIIIIIIIIIIIIIIIIIIII-IIIIIIIIII9IIIIII9IIIIIIIIIIIIIIIIIIIIIIIIIIIIIIIIIIII-9IIIIIIIIIIIIIIIIIIIIIIIIII9IIIIIIIIII-\n",
        "@LH00469:425:22WK5TLT4:8:1101:16650:1056 1:N:0:GTCTAATGGC+CCTGACCACT\n",
        "CAGCCACGCTCATGCCGATGCCTGTGCAGAGGATGGCAAGCAGACGCGGCAGGCGGGAGATCAGAAAGATCTCCCATGTTTCCACGCTGCCTGTAAACAGGTCAGAAGGCCGGATGTCCAGCACCCCGACAAACAAAGAACAAACCGAAAG\n",
        "+\n",
        "I#IIIIIIIIIIIIIIIIIIIIIIIIIIIIIIIIIIIIIIIIIIIIIIIIIIIIIIIIIIIIIIIIII9IIIIIIIIIIIIIIIIIIIIIIIIIII-IIIII9IIIII-I-IIIIIIIIIIIIIIIIIIIIIIIIIIII-IIIIIII9III\n",
        "```\n",
        "\n",
        "\n",
        "## Requirements\n",
        "Assume the FASTQ file is properly formatted (4 lines per record).\n",
        "\n",
        "Your script should accept the FASTQ file path as a command-line argument.\n",
        "\n",
        "\n",
        "\n",
        "## Expected Output\n",
        "\n",
        "```\n",
        "Q30 percentage: 92.53%\n",
        "```\n",
        "### Hint\n",
        "`Ignore sequence and identifier lines; only parse quality score lines`.\n",
        "\n",
        "`Phred quality score = ord(char) - 33`\n"
      ],
      "metadata": {
        "id": "w8PRJbWDCWHP"
      }
    },
    {
      "cell_type": "code",
      "source": [
        "import sys\n",
        "print(sys.argv)   #if this were saved as a q30_calc.py script; this would allow an imput of nay fasta_file\n"
      ],
      "metadata": {
        "colab": {
          "base_uri": "https://localhost:8080/"
        },
        "id": "OoqkR-49T9Jm",
        "outputId": "d8fbe3ea-2c9f-4f6f-fb8f-4d42dc7ce33d"
      },
      "execution_count": 15,
      "outputs": [
        {
          "output_type": "stream",
          "name": "stdout",
          "text": [
            "['/usr/local/lib/python3.12/dist-packages/colab_kernel_launcher.py', '-f', '/root/.local/share/jupyter/runtime/kernel-66a806b8-e33c-4ad6-ac49-7a21e9f58823.json']\n"
          ]
        }
      ]
    },
    {
      "cell_type": "code",
      "source": [
        "# Answer Problem 2 here:\n",
        "fasta_seq = '''\n",
        "@LH00469:425:22WK5TLT4:8:1101:13025:1056 1:N:0:GTCTAATGGC+CCTGACCACT\n",
        "GATTGAGGGCAGCACCATCTACCACAAGACCGAGTACCGCGAGCGCCGCAACCATTACGCATTGTTCACCGTCAACACGCCCATTGACGGCTTTGACACGAGCCGGGACGCCTTTTTAGGCGCATGGCGCAGCAATGCGAACCCCGAGGTC\n",
        "+\n",
        "I#IIIIIIIIIIIIIIIIIIIII9I9IIIIIIIIIIIIIIIIIIIIIIIIIIIIII-IIIIIIIIII9IIIIII9IIIIIIIIIIIIIIIIIIIIIIIIIIIIIIIIIIII-9IIIIIIIIIIIIIIIIIIIIIIIIII9IIIIIIIIII-\n",
        "@LH00469:425:22WK5TLT4:8:1101:16650:1056 1:N:0:GTCTAATGGC+CCTGACCACT\n",
        "CAGCCACGCTCATGCCGATGCCTGTGCAGAGGATGGCAAGCAGACGCGGCAGGCGGGAGATCAGAAAGATCTCCCATGTTTCCACGCTGCCTGTAAACAGGTCAGAAGGCCGGATGTCCAGCACCCCGACAAACAAAGAACAAACCGAAAG\n",
        "+\n",
        "I#IIIIIIIIIIIIIIIIIIIIIIIIIIIIIIIIIIIIIIIIIIIIIIIIIIIIIIIIIIIIIIIIII9IIIIIIIIIIIIIIIIIIIIIIIIIII-IIIII9IIIII-I-IIIIIIIIIIIIIIIIIIIIIIIIIIII-IIIIIII9III\n",
        "'''\n",
        "\n",
        "with open (\"fasta_seq\", \"w\") as f:\n",
        "  f.write(fasta_seq)\n",
        "\n",
        "def qual_score_filter(fasta_file):\n",
        "  total_scores = 0 #counter for all bases/quality scores\n",
        "  q30_scores= 0 #counter for all scores above 30\n",
        "\n",
        "  with open(fasta_file, \"r\") as f:\n",
        "    for i, line in enumerate(f):\n",
        "      line = line.strip()\n",
        "      if i % 4 == 3:    #quality line (4th line); returns i to 0 after 4th line\n",
        "        for l in line:\n",
        "          q  = ord(l) - 33  #ord() returns the ASCII for the character, l\n",
        "          total_scores += 1\n",
        "          if q >= 30:\n",
        "            q30_scores += 1\n",
        "  if total_scores == 0:\n",
        "    return 0.0\n",
        "  else:\n",
        "    return round((q30_scores/total_scores) *100, 2)\n",
        "\n",
        "print(\"Q30 percentage:\", qual_score_filter(\"fasta_file\"))\n",
        "\n",
        "#Command Line:\n",
        "python q30_calc.py fasta_file.fastq\n"
      ],
      "metadata": {
        "id": "0QVOHBHeRJAa"
      },
      "execution_count": 14,
      "outputs": []
    },
    {
      "cell_type": "markdown",
      "source": [
        "# Problem 3:  VCF File Processing Test\n",
        "\n",
        "## Background\n",
        "The Variant Call Format (VCF) is widely used in bioinformatics to report genomic variants, including SNPs and INDELs. A VCF file consists of metadata (lines starting with #), a header, and variant entries with fields such as chromosome, position, reference and alternate alleles, quality scores, filters, annotations, and sample genotypes.\n",
        "\n",
        "## Task Description\n",
        "This task will test your ability to manipulate and parse VCF files.\n",
        "\n",
        "## Test Case\n",
        "TEST.vcf\n",
        "```\n",
        "##fileformat=VCFv4.2\n",
        "##FILTER=<ID=PASS,Description=\"All filters passed\">\n",
        "##FORMAT=<ID=GT,Number=1,Type=String,Description=\"Genotype\">\n",
        "##FORMAT=<ID=DP,Number=1,Type=Integer,Description=\"Read depth\">\n",
        "##FORMAT=<ID=GQ,Number=1,Type=Integer,Description=\"Genotype quality\">\n",
        "#CHROM\tPOS\tID\tREF\tALT\tQUAL\tFILTER\tINFO\tFORMAT\tSample1\tSample2\tSample3\n",
        "chr1\t100\t.\tA\tT\t35.2\tPASS\tDP=20\tGT:DP:GQ\t0/1:15:30\t0/0:18:35\t1/1:12:25\n",
        "chr1\t200\t.\tG\tC\t28.5\tPASS\tDP=25\tGT:DP:GQ\t0/0:20:40\t0/1:22:32\t0/1:19:28\n",
        "chr1\t300\t.\tAT\tA\t42.1\tPASS\tDP=30\tGT:DP:GQ\t1/1:25:45\t0/0:28:38\t0/1:24:35\n",
        "chr2\t150\t.\tC\tG\t15.3\tLowQual DP=8\tGT:DP:GQ\t./.:.:.\t0/0:5:10\t0/1:8:15\n",
        "chr2\t250\t.\tT\tA\t55.7\tPASS\tDP=35\tGT:DP:GQ\t0/1:30:50\t1/1:32:48\t0/0:33:52\n",
        "..\n",
        "```\n",
        "\n",
        "\n",
        "## Questions\n",
        "### P3A. Filter variants by chromosome\n",
        "Description: Extract all variants located on chromosome `chr1`.\n",
        "\n",
        "---\n",
        "\n",
        "### P3B. Filter by genomic region\n",
        "Description: Extract variants within the region chr1:150-350.\n",
        "\n",
        "---\n",
        "\n",
        "### P3C. Remove `chr` Prefix from CHROM Column\n",
        "Description: Remove the `chr` prefix from lines like `chr1`, `chr2`, etc. (`chr1` --> `1`, `chr2` --> `2`)\n",
        "\n",
        "---\n"
      ],
      "metadata": {
        "id": "Q9KVkvubBIPq"
      }
    },
    {
      "cell_type": "code",
      "source": [
        "%%writefile test.vcf\n",
        "## fileformat=VCFv4.2\n",
        "## FILTER=<ID=PASS,Description=\"All filters passed\">\n",
        "## FORMAT=<ID=GT,Number=1,Type=String,Description=\"Genotype\">\n",
        "## FORMAT=<ID=DP,Number=1,Type=Integer,Description=\"Read depth\">\n",
        "## FORMAT=<ID=GQ,Number=1,Type=Integer,Description=\"Genotype quality\">\n",
        "# CHROM POS ID  REF ALT QUAL    FILTER  INFO    FORMAT  Sample1 Sample2 Sample3\n",
        "chr1    100 .   A   T   35.2    PASS    DP=20   GT:DP:GQ    0/1:15:30   0/0:18:35   1/1:12:25\n",
        "chr1    200 .   G   C   28.5    PASS    DP=25   GT:DP:GQ    0/0:20:40   0/1:22:32   0/1:19:28\n",
        "chr1    300 .   AT  A   42.1    PASS    DP=30   GT:DP:GQ    1/1:25:45   0/0:28:38   0/1:24:35\n",
        "chr2    150 .   C   G   15.3    LowQual DP=8    GT:DP:GQ    ./.:.:. 0/0:5:10    0/1:8:15\n",
        "chr2    250 .   T   A   55.7    PASS    DP=35   GT:DP:GQ    0/1:30:50   1/1:32:48   0/0:33:52\n",
        ".."
      ],
      "metadata": {
        "colab": {
          "base_uri": "https://localhost:8080/"
        },
        "id": "NpPMkfNjV_Tx",
        "outputId": "2bd29f2b-5c6e-4336-f5be-5e43369447cc"
      },
      "execution_count": 16,
      "outputs": [
        {
          "output_type": "stream",
          "name": "stdout",
          "text": [
            "Writing test.vcf\n"
          ]
        }
      ]
    },
    {
      "cell_type": "code",
      "source": [
        "# Answer Problem 3 here:\n",
        "#first, in theory, I'd deal with multiallelic sties so that each record is biallelic\n",
        "bgzip -c test.vcf > test.vcf.gz\n",
        "tabix -p vcf test.vcf.gz\n",
        "\n",
        "bcftools norm -f reference.fa -m -both test.vcf.gz -Oz -o test.split.norm.vcf.gz\n",
        "tabix -p vcf test.split.norm.vcf.gz"
      ],
      "metadata": {
        "id": "rO_QW3LnRM9l",
        "outputId": "4cf56bfe-3d30-4337-bf17-601899ae49b1",
        "colab": {
          "base_uri": "https://localhost:8080/"
        },
        "collapsed": true
      },
      "execution_count": 25,
      "outputs": [
        {
          "output_type": "stream",
          "name": "stdout",
          "text": [
            "## fileformat=VCFv4.2\n",
            "## FILTER=<ID=PASS,Description=\"All filters passed\">\n",
            "## FORMAT=<ID=GT,Number=1,Type=String,Description=\"Genotype\">\n",
            "## FORMAT=<ID=DP,Number=1,Type=Integer,Description=\"Read depth\">\n",
            "## FORMAT=<ID=GQ,Number=1,Type=Integer,Description=\"Genotype quality\">\n",
            "# CHROM POS ID  REF ALT QUAL    FILTER  INFO    FORMAT  Sample1 Sample2 Sample3\n",
            "chr1    100 .   A   T   35.2    PASS    DP=20   GT:DP:GQ    0/1:15:30   0/0:18:35   1/1:12:25\n",
            "chr1    200 .   G   C   28.5    PASS    DP=25   GT:DP:GQ    0/0:20:40   0/1:22:32   0/1:19:28\n",
            "chr1    300 .   AT  A   42.1    PASS    DP=30   GT:DP:GQ    1/1:25:45   0/0:28:38   0/1:24:35\n"
          ]
        }
      ]
    },
    {
      "cell_type": "code",
      "source": [
        "#A Extract Chr1 variants\n",
        "!grep \"^#\" test.vcf > chr1.vcf\n",
        "!grep -v \"^#\" test.vcf | awk '$1 ==\"chr1\"' >> chr1.vcf\n",
        "!head chr1.vcf\n",
        "\n",
        "#I'd usually use bcftools:\n",
        "# !bcftools view -i 'CHROM =\"chr1\"' test.vcf > test_chr1.vcf"
      ],
      "metadata": {
        "colab": {
          "base_uri": "https://localhost:8080/"
        },
        "id": "Tdaf1CgvZ9pM",
        "outputId": "19493fb9-d45a-4928-c778-e6228ea1302a"
      },
      "execution_count": 27,
      "outputs": [
        {
          "output_type": "stream",
          "name": "stdout",
          "text": [
            "## fileformat=VCFv4.2\n",
            "## FILTER=<ID=PASS,Description=\"All filters passed\">\n",
            "## FORMAT=<ID=GT,Number=1,Type=String,Description=\"Genotype\">\n",
            "## FORMAT=<ID=DP,Number=1,Type=Integer,Description=\"Read depth\">\n",
            "## FORMAT=<ID=GQ,Number=1,Type=Integer,Description=\"Genotype quality\">\n",
            "# CHROM POS ID  REF ALT QUAL    FILTER  INFO    FORMAT  Sample1 Sample2 Sample3\n",
            "chr1    100 .   A   T   35.2    PASS    DP=20   GT:DP:GQ    0/1:15:30   0/0:18:35   1/1:12:25\n",
            "chr1    200 .   G   C   28.5    PASS    DP=25   GT:DP:GQ    0/0:20:40   0/1:22:32   0/1:19:28\n",
            "chr1    300 .   AT  A   42.1    PASS    DP=30   GT:DP:GQ    1/1:25:45   0/0:28:38   0/1:24:35\n",
            "chr1    100 .   A   T   35.2    PASS    DP=20   GT:DP:GQ    0/1:15:30   0/0:18:35   1/1:12:25\n"
          ]
        }
      ]
    },
    {
      "cell_type": "code",
      "source": [
        "#B Extract variants within the region chr1:150-350.\n",
        "\n",
        "!grep \"^#\" test.vcf > chr1_150_350.vcf\n",
        "\n",
        "!awk '$1 == \"chr1\" && $2>=150 && $2<=350' test.vcf >> chr1_150_350.vcf\n",
        "\n",
        "!view chr1_150_350.vcf\n",
        "####!bcftools view -r 'chr1:150-350' test.vcf > TEST_chr1_150_350.vcf\n",
        "\n",
        "## same, but allows choosing with fields are extracted:\n",
        "#### bcftools query -r chr1:150-350 -f '%CHROM\\t%POS\\t%REF\\t%ALT\\t%QUAL\\n' chr1_region150_350.vcf\n"
      ],
      "metadata": {
        "colab": {
          "base_uri": "https://localhost:8080/"
        },
        "id": "flDMYcq7XD--",
        "outputId": "8a9a4766-854f-49f5-82c9-8cffb395b1e6"
      },
      "execution_count": 35,
      "outputs": [
        {
          "output_type": "stream",
          "name": "stdout",
          "text": [
            "\u001b7\u001b[?47h\u001b[>4;2m\u001b[?1h\u001b=\u001b[?2004h\u001b[?1004h\u001b[1;24r\u001b[?12h\u001b[?12l\u001b[22;2t\u001b[22;1t\u001b[29m\u001b[m\u001b[H\u001b[2J\u001b[?25l\u001b[24;1H\"chr1_150_350.vcf\" [readonly] 8L, 541B\u001b[2;1H▽\u001b[6n\u001b[2;1H  \u001b[3;1H\u001bPzz\u001b\\\u001b[0%m\u001b[6n\u001b[3;1H           \u001b[1;1H\u001b[>c\u001b]10;?\u0007\u001b]11;?\u0007\u001b[1;1H\u001b[34m## fileformat=VCFv4.2\r\n",
            "## FILTER=<ID=PASS,Description=\"All filters passed\">\u001b[m\u001b[2;53H\u001b[K\u001b[3;1H\u001b[34m## FORMAT=<ID=GT,Number=1,Type=String,Description=\"Genotype\">\u001b[m\u001b[3;62H\u001b[K\u001b[4;1H\u001b[34m## FORMAT=<ID=DP,Number=1,Type=Integer,Description=\"Read depth\">\r\n",
            "## FORMAT=<ID=GQ,Number=1,Type=Integer,Description=\"Genotype quality\">\r\n",
            "# CHROM POS ID  REF ALT QUAL    FILTER  INFO    FORMAT  Sample1 Sample2 Sample3\u001b[m\r\n",
            "chr1    200 .   G   C   28.5    PASS    DP=25   GT:DP:GQ    0/0:20:40   0/1:22:33\u001b[8;1H2   0/1:19:28\r\n",
            "chr1    300 .   AT  A   42.1    PASS    DP=30   GT:DP:GQ    1/1:25:45   0/0:28:33\u001b[10;1H8   0/1:24:35\n",
            "\u001b[1m\u001b[34m~                                                                               \u001b[12;1H~                                                                               \u001b[13;1H~                                                                               \u001b[14;1H~                                                                               \u001b[15;1H~                                                                               \u001b[16;1H~                                                                               \u001b[17;1H~                                                                               \u001b[18;1H~                                                                               \u001b[19;1H~                                                                               \u001b[20;1H~                                                                               \u001b[21;1H~                                                                               \u001b[22;1H~                                                                               \u001b[23;1H~                                                                               \u001b[m\u001b[24;63H1,1\u001b[11CAll\u001b[1;1H\u001b[?25h\u001b[24;1H\u001b[?1004l\u001b[?2004l\u001b[?1l\u001b>\u001b[>4;m\u001b[2J\u001b[?47l\u001b8Vim: Caught deadly signal TERM\n",
            "Vim: Finished.\n",
            "\u001b[24;1H\u001b[23;2t\u001b[23;1t\n",
            "^C\n"
          ]
        }
      ]
    },
    {
      "cell_type": "code",
      "source": [
        "#C Remove chr Prefix from CHROM Column\n",
        "!awk -F'\\t' '{gsub(/^chr/,\"\",$1); print $1}' test.vcf > renamed_test.vcf\n",
        "!head renamed_test.vcf"
      ],
      "metadata": {
        "colab": {
          "base_uri": "https://localhost:8080/"
        },
        "id": "AZ66Y6GZatRk",
        "outputId": "29d85dcc-43a0-4cc3-a70e-6a00b34b7939"
      },
      "execution_count": 38,
      "outputs": [
        {
          "output_type": "stream",
          "name": "stdout",
          "text": [
            "## fileformat=VCFv4.2\n",
            "## FILTER=<ID=PASS,Description=\"All filters passed\">\n",
            "## FORMAT=<ID=GT,Number=1,Type=String,Description=\"Genotype\">\n",
            "## FORMAT=<ID=DP,Number=1,Type=Integer,Description=\"Read depth\">\n",
            "## FORMAT=<ID=GQ,Number=1,Type=Integer,Description=\"Genotype quality\">\n",
            "# CHROM POS ID  REF ALT QUAL    FILTER  INFO    FORMAT  Sample1 Sample2 Sample3\n",
            "1    100 .   A   T   35.2    PASS    DP=20   GT:DP:GQ    0/1:15:30   0/0:18:35   1/1:12:25\n",
            "1    200 .   G   C   28.5    PASS    DP=25   GT:DP:GQ    0/0:20:40   0/1:22:32   0/1:19:28\n",
            "1    300 .   AT  A   42.1    PASS    DP=30   GT:DP:GQ    1/1:25:45   0/0:28:38   0/1:24:35\n",
            "2    150 .   C   G   15.3    LowQual DP=8    GT:DP:GQ    ./.:.:. 0/0:5:10    0/1:8:15\n"
          ]
        }
      ]
    },
    {
      "cell_type": "markdown",
      "source": [
        "# Problem 4: Find the Most Frequent *k*-mer\n",
        "\n",
        "## Background\n",
        "Within nucleic acid sequences, a given substring of bases of length *k* is referred to as a *k*-mer.\n",
        "\n",
        "## Task Description\n",
        "Make a function which finds the most frequent *k*-mer in a given DNA sequence and report the number of occurences. If there are multiple *k*-mers with the same highest frequency, return all of them and the number of most frequent *k*-mer.\n",
        "\n",
        "\n",
        "## Input Format\n",
        "DNA sequence (string)\n",
        "- e.g. \"ATCGCGCTAGTCGCGATCGATCATCGTA\"\n",
        "\n",
        "Value of *k* (integer)\n",
        "- e.g. 3\n",
        "\n",
        "## Expected Output\n",
        "List of the most frequent *k*-mers (list) & the number of occurrences (frequency)\n",
        "- e.g. ['ATCG', 'TCGG'] 4\n",
        "\n",
        "\n",
        "## Test Case\n",
        "Find the input sequence(s) of length *k* = 5:\n",
        "```\n",
        "ATTCGGGCGAAGAGCCCCTTCCACACACCTCTGAAGCCCAGCCTCTGCAGACCTGAGACGCGGTGCTGCCTTTCTCTTTATTCAGCACAGAGACCACAGTTGGGCCGGGTGGGAGACGATGCACAGAAGAGCAGCCAGCTATGTAACCTGCCACAAATGTCACAACCAGCTGCTCTGCCTTTGTACATTCACTTCGGGGCTTAGGAACCACAAATTTGTACAAAGCTTCAA\n",
        "5\n",
        "```\n",
        "\n"
      ],
      "metadata": {
        "id": "SHHkrJdHII-G"
      }
    },
    {
      "cell_type": "code",
      "source": [
        "# Answer Problem 4 here:\n",
        "input_seq = '''\n",
        "ATTCGGGCGAAGAGCCCCTTCCACACACCTCTGAAGCCCAGCCTCTGCAGACCTGAGACGCGGTGCTGCCTTTCTCTTTATTCAGCACAGAGACCACAGTTGGGCCGGGTGGGAGACGATGCACAGAAGAGCAGCCAGCTATGTAACCTGCCACAAATGTCACAACCAGCTGCTCTGCCTTTGTACATTCACTTCGGGGCTTAGGAACCACAAATTTGTACAAAGCTTCAA\n",
        "'''\n"
      ],
      "metadata": {
        "id": "W55zi-WyRPhh"
      },
      "execution_count": 57,
      "outputs": []
    },
    {
      "cell_type": "code",
      "source": [
        "from collections import Counter\n",
        "\n",
        "k = 5\n",
        "def kmer_max(seq, k):\n",
        "  #with open(input_seq, \"r\") as f:\n",
        "\n",
        "    counts = Counter()\n",
        "    for b in range(len(seq) - k + 1): #end range at last kmer (length - 5 +1)\n",
        "      kmer = seq[b : b + k]\n",
        "      counts[kmer] += 1\n",
        "\n",
        "    # Find the maximum frequency\n",
        "    max_freq = 0\n",
        "    for freq in counts.values():\n",
        "      if freq > max_freq:\n",
        "        max_freq = freq\n",
        "\n",
        "    # Find all k-mers with the maximum frequency\n",
        "    max_kmers = [kmer for kmer, freq in counts.items() if freq == max_freq]\n",
        "\n",
        "    return max_kmers, max_freq\n",
        "\n",
        "print(kmer_max(input_seq.strip(), k))"
      ],
      "metadata": {
        "colab": {
          "base_uri": "https://localhost:8080/"
        },
        "id": "Txw3sUxjfK0H",
        "outputId": "fa7ea400-3311-4903-f993-2dacadcf80d4"
      },
      "execution_count": 59,
      "outputs": [
        {
          "output_type": "stream",
          "name": "stdout",
          "text": [
            "(['CCACA'], 4)\n"
          ]
        }
      ]
    }
  ]
}