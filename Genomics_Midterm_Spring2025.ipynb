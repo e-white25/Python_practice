{
  "cells": [
    {
      "cell_type": "markdown",
      "metadata": {
        "colab_type": "text",
        "id": "view-in-github"
      },
      "source": [
        "<a href=\"https://colab.research.google.com/github/e-white25/Python_practice/blob/main/Genomics_Midterm_Spring2025.ipynb\" target=\"_parent\"><img src=\"https://colab.research.google.com/assets/colab-badge.svg\" alt=\"Open In Colab\"/></a>"
      ]
    },
    {
      "cell_type": "markdown",
      "metadata": {
        "id": "HQm83gav9eqA"
      },
      "source": [
        "#Midterm Exam\n",
        "\n",
        "### Question 1-2\n",
        "You work at a startup that is trying to bioprospect human gut metagenomic data. They recently developed a DNA-based LLM and have generated a handful of sequences. They now want to determine whether these sequences are statistically distinguishable from naturally occurring data.\n",
        "\n",
        "Run the cell below to download two datasets, one from AI generated sequences and one from real data.\n"
      ]
    },
    {
      "cell_type": "code",
      "execution_count": null,
      "metadata": {
        "id": "5nhAetG39m4e"
      },
      "outputs": [],
      "source": [
        "!pip install gdown\n",
        "!gdown 124nJeiT7tNrI-YjZ4lNb8uUBmkKqZhRY\n",
        "!gdown 1Okf8cEt2RU_kNvTUnkQx3hDiEE4SA5aE"
      ]
    },
    {
      "cell_type": "markdown",
      "metadata": {
        "id": "0m8_oGR_GKfx"
      },
      "source": [
        "##Assessing FASTA file structures: "
      ]
    },
    {
      "cell_type": "code",
      "execution_count": null,
      "metadata": {},
      "outputs": [],
      "source": [
        "!pip install pandas"
      ]
    },
    {
      "cell_type": "code",
      "execution_count": null,
      "metadata": {
        "colab": {
          "base_uri": "https://localhost:8080/"
        },
        "id": "bfTbioo-98j-",
        "outputId": "ce098fbf-63fb-4861-892b-29041eef9cb1"
      },
      "outputs": [],
      "source": [
        "### import a multifasta into a dictionary or convert this into a table (using bash for example) and load it as a df.\n",
        "### Note: datasets stored as:\n",
        "\n",
        "# c:\\Users\\eawhi\\Genomics\\Practice\\Artificial.fasta\n",
        "# c:\\Users\\eawhi\\Genomics\\Practice\\Real.fasta\n",
        "\n",
        "import pandas as pd\n",
        "\n",
        "## Taking a look at the files:\n",
        "with open(\"Artificial.fasta\", \"r\") as file:\n",
        "    for i in range(10):\n",
        "        print(\"AI\", file.readline().strip())\n",
        "\n",
        "with open(\"Real.fasta\", \"r\") as file:\n",
        "    for i in range(10):\n",
        "        print(\"REAL\", file.readline().strip())"
      ]
    },
    {
      "cell_type": "markdown",
      "metadata": {
        "id": "tYrvoygbGBjv"
      },
      "source": [
        "## Q1. Make the FASTA files into dictionaries"
      ]
    },
    {
      "cell_type": "code",
      "execution_count": null,
      "metadata": {
        "colab": {
          "base_uri": "https://localhost:8080/"
        },
        "id": "04_iwt9oVWAV",
        "outputId": "b9b33450-b68b-4d46-8fcb-a8cdc43d79ce"
      },
      "outputs": [],
      "source": [
        "AI_fasta_dict = {}\n",
        "with open(\"Artificial.fasta\", \"r\") as file:\n",
        "    current_id = None #initializes a placeholder\n",
        "    for line in file:\n",
        "        line = line.strip()\n",
        "        if line.startswith(\">\"):\n",
        "            current_id = line[1:]  # slice from the 2nd character/index 1\n",
        "            AI_fasta_dict[current_id] = \"\"  # initialize new string in dictionary with key 'current_ID' and value = empty string (e.g \"contig1\":\"\")\n",
        "        else: #anything but the header - in this case it's the sequence\n",
        "            AI_fasta_dict[current_id] += line  # add/append sequence data to its ID\n",
        "print(AI_fasta_dict)\n",
        "\n",
        "REAL_fasta_dict = {}\n",
        "with open(\"Real.fasta\", \"r\") as file:\n",
        "    current_id = None #initializes a placeholder\n",
        "    for line in file:\n",
        "        line = line.strip()\n",
        "        if line.startswith(\">\"):\n",
        "            current_id = line[1:]  # slice from the 2nd character/index 1\n",
        "            REAL_fasta_dict[current_id] = \"\"  # initialize new string in dictionary with key 'current_ID' and value = empty string (e.g \"contig1\":\"\")\n",
        "        else: #anything but the header - in this case it's the sequence\n",
        "            REAL_fasta_dict[current_id] += line  # add/append sequence data to its ID\n",
        "print(REAL_fasta_dict)"
      ]
    },
    {
      "cell_type": "markdown",
      "metadata": {},
      "source": [
        "## Q2a. Calculate the GC content of each sequence"
      ]
    },
    {
      "cell_type": "code",
      "execution_count": null,
      "metadata": {
        "colab": {
          "base_uri": "https://localhost:8080/"
        },
        "id": "kLI5SMEqhiZx",
        "outputId": "bc8e5d6f-beac-4ad1-e991-2a00c16a28bc"
      },
      "outputs": [],
      "source": [
        "#Global GC function\n",
        "def GC_content(seq: str) -> float:\n",
        "    seq = seq.upper()\n",
        "    if not seq:\n",
        "        return float(\"NaN\") # account for empty/blank reads\n",
        "    GC_count = seq.count('G') + seq.count('C')\n",
        "    return round(GC_count / len(seq) * 100, 2)       #round to keep only 2 decimals \n",
        "\n",
        "#REAL Data > calc GC corresponding to read_ID, seq\n",
        "REAL_GC_list = []\n",
        "for contig, seq in REAL_fasta_dict.items():         # loop grabs [key, value] in {dic} with .items\n",
        "    gc_content_REAL = GC_content(seq) # Calculate GC content for the current sequence.\n",
        "    REAL_GC_list.append([contig, gc_content_REAL]) # Append sequence ID and GC content to the list.\n",
        "\n",
        "# AI DATA > calculate GC corresponding to read_ID, seq\n",
        "AI_GC_list =[]\n",
        "for contig, seq in AI_fasta_dict.items():\n",
        "    gc_content_AI = GC_content(seq)\n",
        "    AI_GC_list.append([contig, gc_content_AI]) \n",
        "\n",
        "# Create DataFrame from the lists\n",
        "REAL_GC_df = pd.DataFrame(REAL_GC_list, columns=[\"contig\", \"gc_content_REAL\"])\n",
        "print(REAL_GC_df)\n",
        "\n",
        "AI_GC_df = pd.DataFrame(AI_GC_list, columns=[\"contig\", \"gc_content_AI\"])\n",
        "print(AI_GC_df)"
      ]
    },
    {
      "cell_type": "markdown",
      "metadata": {
        "id": "DDYG4RnJDvKC"
      },
      "source": [
        "## Q2b. Return: The ID of the string having the highest GC-content, followed by the GC-content of that string"
      ]
    },
    {
      "cell_type": "code",
      "execution_count": 49,
      "metadata": {
        "colab": {
          "base_uri": "https://localhost:8080/"
        },
        "id": "MuKUubJpn5ff",
        "outputId": "09131a77-8bde-432f-b6cb-ab3f33a3e4ab"
      },
      "outputs": [
        {
          "name": "stdout",
          "output_type": "stream",
          "text": [
            "Highest GC Content AI: contig           contig_13\n",
            "gc_content_AI         75.5\n",
            "Name: 13, dtype: object\n",
            "Highest GC Content REAL contig             real_contig26\n",
            "gc_content_REAL             45.5\n",
            "Name: 26, dtype: object\n"
          ]
        }
      ],
      "source": [
        "#print ID with max GC content\n",
        "max_GC_REAL_data = REAL_GC_df.loc[REAL_GC_df[\"gc_content_REAL\"].idxmax()] # .loc gives row index of seq w/highest GC\n",
        "max_GC_AI_data = AI_GC_df.loc[AI_GC_df[\"gc_content_AI\"].idxmax()] \n",
        "print(\"Highest GC Content AI:\", max_GC_AI_data)\n",
        "print(\"Highest GC Content REAL\", max_GC_REAL_data)"
      ]
    },
    {
      "cell_type": "code",
      "execution_count": 50,
      "metadata": {},
      "outputs": [],
      "source": [
        "#Combining dfs\n",
        "#ALL_contigs_GC = pd.DataFrame(REAL_GC_list + AI_GC_list,\n",
        "                              #columns =[\"contig\", \"GC_content\", \"dataset\"])"
      ]
    },
    {
      "cell_type": "code",
      "execution_count": null,
      "metadata": {},
      "outputs": [],
      "source": [
        "#Troubleshooting Error\n",
        "type(REAL_GC_list), type(AI_GC_list)    # > checking to maake sure they are lists (not df)\n",
        "\n",
        "print(REAL_GC_list[:3])                 # > see what first few entries look like\n",
        "print(AI_GC_list[:3])\n",
        "\n",
        "print({len(r) for r in REAL_GC_list})       # > do the different lists have the same number of elements\n",
        "print({len(r) for r in AI_GC_list})"
      ]
    },
    {
      "cell_type": "markdown",
      "metadata": {},
      "source": [
        "*ERROR: passed 3 column names but combined list has only 2 values per row*\n",
        "\n",
        "Checked with: \n",
        "> columns = _validate_or_indexify_columns(contents, columns) \n",
        "> Returned > ValueError: 3 columns passed, passed data had 2 columns \n",
        "\n",
        "Solution: \n",
        "> Add a dataset tag to each entry so it is clear if read is AI or REAL"
      ]
    },
    {
      "cell_type": "code",
      "execution_count": null,
      "metadata": {},
      "outputs": [],
      "source": [
        "#Tagging lists [key, value] > [key, value, tag] i.e list comprehension\n",
        "\n",
        "#Loop over every (key, value) pair inside GC_list and produce a new list with 3 elements:\n",
        "REAL_tag = [(contig, gc_content, \"REAL\") for (contig, gc_content) in REAL_GC_list]\n",
        "AI_tag = [(contig, gc_content, \"AIL\") for (contig, gc_content) in AI_GC_list]\n",
        "\n",
        "#Make new df for combined data\n",
        "\n",
        "ALL_contigs_GC = pd.DataFrame(REAL_tag + AI_tag,\n",
        "                              columns = [\"contig\", \"gc_content\", \"dataset\"])\n",
        "\n",
        "#Clean up contig_ID to just ID number\n",
        "#ALL_contigs_GC[\"contig\"] = ALL_contigs_GC[\"contig\"].str.split(\"_\").str[-1].astype(int) # remove contig_ and select the last part (###); convert str > intg\n",
        "#> Error: not all contigs are structured contig_##\n",
        "ALL_contigs_GC[\"contig\"] = (\n",
        "    ALL_contigs_GC[\"contig\"]\n",
        "    .astype(str)        #make sure all entires are strings\n",
        "    #.str.replace(r\"contig_?\". \"\", regex=True)       ## remove - works but im not sure all formats look like this\n",
        "    .str.extract(r\"(\\d+)$\")      #extract trailing digits (d+ grabs one or more)\n",
        "    .astype(float)\n",
        "    )      \n",
        "\n",
        "#Sort from highest > lowest GC\n",
        "GC_sorted_df = ALL_contigs_GC.sort_values(by=\"gc_content\", ascending=False)         # highest > lowest by GC\n",
        "\n",
        "print(GC_sorted_df.head(60))"
      ]
    },
    {
      "cell_type": "markdown",
      "metadata": {
        "id": "6PvYUuFE983G"
      },
      "source": [
        "##**Question 2:** Generate a table of 3-mer distributions for both sets of sequences and visualize them as bar plots."
      ]
    },
    {
      "cell_type": "code",
      "execution_count": null,
      "metadata": {},
      "outputs": [],
      "source": [
        "!pip install matplotlib"
      ]
    },
    {
      "cell_type": "markdown",
      "metadata": {
        "colab": {
          "base_uri": "https://localhost:8080/",
          "height": 487
        },
        "id": "gD-u1fvF9-6F",
        "outputId": "6d9679b4-f7ce-4a5a-90c9-621c835d3220"
      },
      "source": [
        "### HINT: This is expected to be done across all sequences not individual sequences, so you can concatenate them to begin with.\n",
        "\n",
        "*#Thought process...*\n",
        "\n",
        "> 1. For each dataset, count how often every possible 3-mer (AAA, AAT, AAC,etc. ... so 4^3 = 64) occurs across all sequences \n",
        "> 2. Turn the results into a table (counts... could normalize by total length of concatenated sequences), then plot this"
      ]
    },
    {
      "cell_type": "code",
      "execution_count": null,
      "metadata": {},
      "outputs": [],
      "source": [
        "#1 Concatenante sequences by dataset:\n",
        "AI_tot_bases = \"\".join(str(seq.upper()) for seq in AI_fasta_dict.values())\n",
        "REAL_tot_bases = \"\".join(str(seq.upper()) for seq in REAL_fasta_dict.values())\n",
        "    #print(type(AI_tot_bases))\n",
        "\n",
        "# Checking to see type & number of elements in each dictionary\n",
        "print(\"dict type/size:\", type(AI_fasta_dict), len(AI_fasta_dict))\n",
        "print(\"dict type/size:\", type(REAL_fasta_dict), len(REAL_fasta_dict))\n",
        "first = next(iter(AI_fasta_dict.items()))\n",
        "print(\"first item:\", first)\n",
        "print(AI_tot_bases[100:])\n",
        "\n",
        "#Just comparing base content between datasets\n",
        "AI_base_counts = {base: AI_tot_bases.count(base) for base in \"ATGC\"}\n",
        "print(AI_base_counts)\n",
        "AI_base_count_tot = sum(AI_base_counts.values())\n",
        "print(AI_base_count_tot)\n",
        "AI_tot_GC = AI_tot_bases.count(\"G\") + AI_tot_bases.count(\"C\")\n",
        "print(AI_tot_GC/len(AI_tot_bases)*100)      # checking matches with value outputted by function\n",
        "print(GC_content(AI_tot_bases))\n",
        "\n",
        "REAL_base_counts = {base: REAL_tot_bases.count(base) for base in \"ATGC\"}\n",
        "print(REAL_base_counts)\n",
        "REAL_base_count_tot = sum(REAL_base_counts.values())\n",
        "print(REAL_base_count_tot)\n",
        "print(GC_content(REAL_tot_bases))"
      ]
    },
    {
      "cell_type": "markdown",
      "metadata": {},
      "source": [
        "K-mers "
      ]
    },
    {
      "cell_type": "code",
      "execution_count": null,
      "metadata": {},
      "outputs": [],
      "source": [
        "from collections import Counter \n",
        "\n",
        "def k_mer_counts(seq: str, k: int = 3) -> Counter:\n",
        "    \"\"\"Count k-mers in one big sequence string, only those containing ACGTN characters\n",
        "       Using Counter tool\"\"\"\n",
        "    \n",
        "    if not seq:\n",
        "        raise ValueError(\"Input seq empty\")\n",
        "    seq = seq.upper()\n",
        "    valid_input = set(\"ATGCN\")\n",
        "    n = len(seq)\n",
        "    c = Counter()\n",
        "    \n",
        "    if n < k:\n",
        "        return c            # in case sequence is less than desired k-mer (won't happen with this dataset, but in general)\n",
        "    \n",
        "    for b in range(n - k + 1):     # SLIDING WINDOW: for base in range (total seq length - 3) + 1) ex: ATTTG > n=5; k=3 --> iterations stop at end: Range(5-3+1) = 3\n",
        "        k_mer = seq[b:b+k]        # Gives positions (i=index) 0,1,2 + 3 ATT; TTT; TTG\n",
        "        if set(k_mer) <= valid_input:\n",
        "                c[k_mer] += 1       #increments the kmer count by 1 each time kmer is detected\n",
        "    return c\n",
        "\n",
        "#test\n",
        "print(k_mer_counts(\"ATTTG\", 3))"
      ]
    },
    {
      "cell_type": "code",
      "execution_count": null,
      "metadata": {},
      "outputs": [],
      "source": [
        "#print(k_mer_counts(AI_tot_bases))   >> works\n",
        "#print(k_mer_counts(REAL_tot_bases))\n",
        "\n",
        "#Make a DF with k-mers as index and counts as column\n",
        "            #NOTE: could also make a series since it's just [kmer: count]; but if want to combine dfs real vs. artificial df might be easier\n",
        "\n",
        "AI_kmer_counts = k_mer_counts(AI_tot_bases, k=3)\n",
        "AI_kmers_df = pd.DataFrame.from_dict(AI_kmer_counts, orient=\"index\", columns=[\"AI_counts\"])\n",
        "AI_kmers_df_sort = AI_kmers_df.sort_values(\"AI_counts\", ascending = False)\n",
        "print(AI_kmers_df_sort.head(10))\n",
        "    "
      ]
    },
    {
      "cell_type": "code",
      "execution_count": null,
      "metadata": {},
      "outputs": [],
      "source": [
        "#Making a function to turn counts into DF\n",
        "\n",
        "def kmer_df(seq, k: int = 3, prefix: str = \"\") -> pd.DataFrame:\n",
        "    \"return a Data frame after running k-mer counts on a sequence\"\n",
        "    counts = k_mer_counts(seq, k=k)\n",
        "    col =f\"{prefix}_counts\"\n",
        "    kmer_counts_df = pd.DataFrame.from_dict(counts, orient=\"index\", columns=[col])\n",
        "    sorted_kmer_df = kmer_counts_df.sort_values(col, ascending=False)\n",
        "\n",
        "    return sorted_kmer_df\n",
        "\n",
        "REAL_kmer_df = kmer_df(REAL_tot_bases, k=3, prefix=\"REAL\")\n",
        "print(REAL_kmer_df.head(10))"
      ]
    },
    {
      "cell_type": "code",
      "execution_count": null,
      "metadata": {},
      "outputs": [],
      "source": [
        "##Combine DFs to compare:\n",
        "# use index of both dfs (kmers) to align rows/values\n",
        "#\"how\" argument keeps all kmer inputs even if one dataset is missing that value, will fill in with NaN next\n",
        "\n",
        "merged_kmer_df = pd.merge(AI_kmers_df_sort, REAL_kmer_df, left_index = True, right_index = True, how=\"outer\")\n",
        "merged_int = merged_kmer_df.reset_index().rename(columns={\"counts\": \"kmer\"})        #reset inde just makes sure kmers are the column \n",
        "\n",
        "# Fill NaN with 0 (in case a k-mer is missing in one dataset)\n",
        "merged_final_df = merged_int.fillna(0).astype({\"AI_counts\": int, \"REAL_counts\": int})\n",
        "print(merged_final_df)\n"
      ]
    },
    {
      "cell_type": "code",
      "execution_count": null,
      "metadata": {},
      "outputs": [
        {
          "data": {
            "image/png": "[encoded data removed]",
            "text/plain": [
              "<Figure size 1000x500 with 1 Axes>"
            ]
          },
          "metadata": {},
          "output_type": "display_data"
        }
      ],
      "source": [
        "import numpy as np\n",
        "import matplotlib.pyplot as plt\n",
        "\n",
        "# Make sure k-mers are an index initially\n",
        "df = merged_final_df.reset_index().rename(columns={'index': 'kmer'}).copy()\n",
        "\n",
        "\n",
        "# Pick Top N by total (AI + REAL)\n",
        "TopN = 10\n",
        "df['total'] = df['AI_counts'] + df['REAL_counts']\n",
        "top = (df.sort_values('total', ascending=False)\n",
        "         .head(TopN)\n",
        "         .reset_index(drop=True))\n",
        "\n",
        "# Plot grouped bars (AI vs REAL)\n",
        "x = np.arange(len(top))\n",
        "width = 0.42\n",
        "\n",
        "fig, ax = plt.subplots(figsize=(10,5))\n",
        "ax.bar(x - width/2, top['AI_counts'],   width, label='AI')\n",
        "ax.bar(x + width/2, top['REAL_counts'], width, label='REAL')\n",
        "\n",
        "ax.set_xticks(x)\n",
        "ax.set_xticklabels(top['kmer'], rotation=70)  # <-- pass the Series of k-mer strings here\n",
        "\n",
        "ax.set_xlabel(\"k-mer\")\n",
        "ax.set_ylabel(\"Count\")\n",
        "ax.set_title(f\"Top {TopN} k-mer Distributions: REAL vs AI\")\n",
        "ax.legend()\n",
        "plt.tight_layout()\n",
        "plt.show()\n"
      ]
    },
    {
      "cell_type": "markdown",
      "metadata": {
        "id": "bOOunqtz9_OK"
      },
      "source": [
        "###Question 3-5\n",
        "On a side project you are being asked to develop part of a pipeline used to validate copy number variants.\n",
        "\n",
        "To start, download the VCF file from the link below.\n",
        "\n"
      ]
    },
    {
      "cell_type": "code",
      "execution_count": null,
      "metadata": {
        "colab": {
          "base_uri": "https://localhost:8080/"
        },
        "id": "IxpZ6qOZEXHn",
        "outputId": "5f1ee5c8-9597-4789-fde5-16d896ed653d"
      },
      "outputs": [],
      "source": [
        "!gdown 1XCTynSQ1g6cidp0oER6IV58hS6Nh1vR-\n",
        "\n",
        "import pandas\n",
        "\n",
        "VCF_df = pandas.read_csv(\"Insertions.csv\", sep = \",\")\n",
        "VCF_df.head(10)"
      ]
    },
    {
      "cell_type": "markdown",
      "metadata": {
        "id": "hatd27NYEXgt"
      },
      "source": [
        "Import it as a pandas DataFrame.\n",
        "\n",
        "Note: The VCF file only includes copy number variants.\n",
        "\n",
        "Question 3: Create three functions that: (+30 points)\n",
        "- a) Calculates the length of an insertion, this is a freeby there is already a function called len()\n",
        "- b) Generates primers to amplify the insert.\n",
        "- c) Calculates the melting temperature of these primers.\n",
        "\n",
        "NOTE: depending on how you solve this you might need more another function like reverse complement.\n",
        "\n"
      ]
    },
    {
      "cell_type": "code",
      "execution_count": 69,
      "metadata": {},
      "outputs": [],
      "source": [
        "# Adding columns for the insert length (already in dataframe,  as \"SIZE\", but removing and repeating for practice\n",
        "# First, for entries with multiple ALT alleles, need to split these; applying genotype as is (doesn't seem to matter here)\n",
        "import pandas as pd\n",
        "from itertools import chain\n",
        "\n",
        "def split_multi_allelics(row):\n",
        "    # Read as strings; account for NaN\n",
        "    alt_str = \"\" if pd.isna(row.get(\"ALT\")) else str(row[\"ALT\"])\n",
        "    af_str  = \"\" if pd.isna(row.get(\"AF\"))  else str(row[\"AF\"])\n",
        "\n",
        "    # MULTI-allelic: split ALT (and AF if present)\n",
        "    if \",\" in alt_str:\n",
        "        alts = [a.strip() for a in alt_str.split(\",\") if a.strip() not in (\"\", \".\")]\n",
        "        afs  = [a.strip() for a in af_str.split(\",\")] if af_str else []\n",
        "        # pad AFs if fewer than ALTs\n",
        "        if len(afs) < len(alts):\n",
        "            afs += [None] * (len(alts) - len(afs))\n",
        "\n",
        "        rows = []\n",
        "        for alt, af in zip(alts, afs):\n",
        "            new_row = row.copy()\n",
        "            new_row[\"ALT\"] = alt\n",
        "            new_row[\"AF\"]  = (\n",
        "                (af) if isinstance(af, str) and af not in (\"\", \".\")\n",
        "                else (af if isinstance(af, (int, str)) else None)\n",
        "            )\n",
        "            rows.append(new_row)\n",
        "        return rows\n",
        "\n",
        "    # BIALLELIC/empty: return a single cleaned row (no alts variable here)\n",
        "    new_row = row.copy()\n",
        "    alt_clean = alt_str.strip()\n",
        "    #clean ALT\n",
        "    new_row[\"ALT\"] = alt_clean if alt_clean not in (\"\", \".\") else None\n",
        "    #clean AF\n",
        "    if af_str:\n",
        "        af_clean = af_str.strip()\n",
        "        af_clean = af_clean.strip(\"()\").strip()\n",
        "        if af_clean in (\"\", \".\"):\n",
        "            new_row[\"AF\"] = None\n",
        "        else:\n",
        "        # keep as string (no float conversion - causing error)\n",
        "            new_row[\"AF\"] = af_clean\n",
        "    else:\n",
        "        new_row[\"AF\"] = None\n",
        "    return [new_row]\n",
        "\n",
        "# Apply and flatten\n",
        "expanded_vcf = list(chain.from_iterable(VCF_df.apply(split_multi_allelics, axis=1)))\n",
        "expanded_vcf = pd.DataFrame(expanded_vcf)\n",
        "\n",
        "# (optional) keep only specific columns\n",
        "keep = [\"CHROM\", \"POS\", \"REF\", \"ALT\", \"QUAL\", \"DP\", \"AF\", \"GENOTYPE\"]\n",
        "expanded_vcf = expanded_vcf[[c for c in keep if c in expanded_vcf.columns]]\n"
      ]
    },
    {
      "cell_type": "code",
      "execution_count": null,
      "metadata": {},
      "outputs": [],
      "source": [
        "# checking if NaNs are new in AF after splitting multiallelic sites:\n",
        "\n",
        "# Count missing in original input\n",
        "print(\"Original AF missing:\", VCF_df[\"AF\"].isna().sum())\n",
        "# Show examples\n",
        "print(VCF_df[VCF_df[\"AF\"].isna()].head())\n",
        "\n",
        "print(\"split AF missing:\", expanded_vcf[\"AF\"].isna().sum())\n",
        "print(expanded_vcf[expanded_vcf[\"AF\"].isna()].head())\n",
        "\n",
        "print(VCF_df.shape[0])\n",
        "print(expanded_vcf.shape[0])"
      ]
    },
    {
      "cell_type": "code",
      "execution_count": null,
      "metadata": {},
      "outputs": [],
      "source": [
        "expanded_vcf.head(10)\n",
        "#still contains () in the splif AF entries; also stored as strings"
      ]
    },
    {
      "cell_type": "code",
      "execution_count": null,
      "metadata": {},
      "outputs": [],
      "source": [
        "expanded_vcf[\"AF\"] = pd.to_numeric(\n",
        "    expanded_vcf[\"AF\"].astype(str).str.strip(\"()\"),\n",
        "    errors=\"coerce\"\n",
        ")\n",
        "expanded_vcf.head(10)"
      ]
    },
    {
      "cell_type": "code",
      "execution_count": null,
      "metadata": {},
      "outputs": [],
      "source": [
        "#a) back to adding length column based on ALT (\"insert\")\n",
        "expanded_vcf[\"INSERT\"] = expanded_vcf[\"ALT\"].astype(str).str.len()\n",
        "expanded_vcf.head(5)"
      ]
    },
    {
      "cell_type": "code",
      "execution_count": 102,
      "metadata": {
        "colab": {
          "base_uri": "https://localhost:8080/"
        },
        "id": "WR_5xDdQtgUa",
        "outputId": "b3eb9801-1ea5-46c7-d2f3-8a894557f3b5"
      },
      "outputs": [],
      "source": [
        "\n",
        "#b) generate FORWARD primer for insert:\n",
        "\n",
        "def generate_primer(row: str, s: int = 10):\n",
        "  insert = row[\"ALT\"]\n",
        "  chrom = row[\"CHROM\"]\n",
        "  pos = row[\"POS\"]\n",
        "  if pd.isna(insert):\n",
        "    return (None, None)\n",
        "  \n",
        "  valid_bases = set(\"ACGTN\")\n",
        "  insert = str(insert).upper()\n",
        "  if not set(insert).issubset(valid_bases):\n",
        "        raise ValueError(f\"Invalid base found in {chrom}:{pos} sequence: {insert}\")\n",
        "  \n",
        "  cDNA_lib = {'A':'T', 'T':'A', 'C':'G', 'G':'C'}\n",
        "  fwd_primer = insert[:s]\n",
        "  rev_primer = ''\n",
        "  rev_seq = insert[::-1] # reverses the entire insert\n",
        "  rev_primer = ''.join(cDNA_lib[b] for b in rev_seq[:s])\n",
        "\n",
        "  return (fwd_primer, rev_primer)"
      ]
    },
    {
      "cell_type": "code",
      "execution_count": 104,
      "metadata": {},
      "outputs": [],
      "source": [
        "#Run primer function on data frame\n",
        "s = 10\n",
        "expanded_vcf[[\"FWD_PRIMER\", \"REV_PRIMER\"]] = expanded_vcf.apply(lambda row: pd.Series(generate_primer(row, s)), axis=1)     \n",
        "\n",
        "#axis=1 switches from default (col) to row; lambda iterates (x+1) through rows"
      ]
    },
    {
      "cell_type": "code",
      "execution_count": null,
      "metadata": {},
      "outputs": [],
      "source": [
        "expanded_vcf.head()"
      ]
    },
    {
      "cell_type": "code",
      "execution_count": 112,
      "metadata": {
        "colab": {
          "base_uri": "https://localhost:8080/"
        },
        "id": "-EESivG5Eeh0",
        "outputId": "e4d574ef-4710-4b88-e6f5-4715a9c1506f"
      },
      "outputs": [],
      "source": [
        "#c) The general formula for melting temp is 4°C*(# G/C nucleotides) + 2°C*(# A/T nucleotides)\n",
        "def melting_temp(seq):\n",
        "  '''Return melting temp (C) for a sequence (string)'''\n",
        "  if pd.isna(seq):\n",
        "    return None\n",
        "  seq = str(seq).upper()\n",
        "  GC_count = seq.count('G') + seq.count('C')\n",
        "  AT_count = seq.count('A') + seq.count('T')\n",
        "  melt_tmp = (4*GC_count + 2*AT_count)\n",
        "  return(melt_tmp)"
      ]
    },
    {
      "cell_type": "markdown",
      "metadata": {
        "id": "JXRFAqA1Eery"
      },
      "source": [
        "Question 4: Apply your function from (a) to all insertions and store the output in a new column. (+10 points)\n",
        "\n"
      ]
    },
    {
      "cell_type": "code",
      "execution_count": 114,
      "metadata": {
        "id": "09bPnCX8H1-u"
      },
      "outputs": [
        {
          "data": {
            "text/html": [
              "<div>\n",
              "<style scoped>\n",
              "    .dataframe tbody tr th:only-of-type {\n",
              "        vertical-align: middle;\n",
              "    }\n",
              "\n",
              "    .dataframe tbody tr th {\n",
              "        vertical-align: top;\n",
              "    }\n",
              "\n",
              "    .dataframe thead th {\n",
              "        text-align: right;\n",
              "    }\n",
              "</style>\n",
              "<table border=\"1\" class=\"dataframe\">\n",
              "  <thead>\n",
              "    <tr style=\"text-align: right;\">\n",
              "      <th></th>\n",
              "      <th>CHROM</th>\n",
              "      <th>POS</th>\n",
              "      <th>REF</th>\n",
              "      <th>ALT</th>\n",
              "      <th>QUAL</th>\n",
              "      <th>DP</th>\n",
              "      <th>AF</th>\n",
              "      <th>GENOTYPE</th>\n",
              "      <th>ALT_lEN</th>\n",
              "      <th>INSERT</th>\n",
              "      <th>FWD_PRIMER</th>\n",
              "      <th>REV_PRIMER</th>\n",
              "      <th>TM_FWD</th>\n",
              "      <th>TM_REV</th>\n",
              "    </tr>\n",
              "  </thead>\n",
              "  <tbody>\n",
              "    <tr>\n",
              "      <th>0</th>\n",
              "      <td>chr1</td>\n",
              "      <td>84002</td>\n",
              "      <td>G</td>\n",
              "      <td>GAAAGAAAGAAAGAAAA</td>\n",
              "      <td>85.750000</td>\n",
              "      <td>4</td>\n",
              "      <td>0.5</td>\n",
              "      <td>1</td>\n",
              "      <td>17</td>\n",
              "      <td>17</td>\n",
              "      <td>GAAAGAAAGA</td>\n",
              "      <td>TTTTCTTTCT</td>\n",
              "      <td>26</td>\n",
              "      <td>24</td>\n",
              "    </tr>\n",
              "    <tr>\n",
              "      <th>1</th>\n",
              "      <td>chr1</td>\n",
              "      <td>789680</td>\n",
              "      <td>A</td>\n",
              "      <td>AGGAATGGAAT</td>\n",
              "      <td>562.729980</td>\n",
              "      <td>24</td>\n",
              "      <td>0.5</td>\n",
              "      <td>1</td>\n",
              "      <td>11</td>\n",
              "      <td>11</td>\n",
              "      <td>AGGAATGGAA</td>\n",
              "      <td>ATTCCATTCC</td>\n",
              "      <td>28</td>\n",
              "      <td>28</td>\n",
              "    </tr>\n",
              "    <tr>\n",
              "      <th>1</th>\n",
              "      <td>chr1</td>\n",
              "      <td>789680</td>\n",
              "      <td>A</td>\n",
              "      <td>AGGAATGGAATGGAAT</td>\n",
              "      <td>562.729980</td>\n",
              "      <td>24</td>\n",
              "      <td>0.5</td>\n",
              "      <td>1</td>\n",
              "      <td>16</td>\n",
              "      <td>16</td>\n",
              "      <td>AGGAATGGAA</td>\n",
              "      <td>ATTCCATTCC</td>\n",
              "      <td>28</td>\n",
              "      <td>28</td>\n",
              "    </tr>\n",
              "    <tr>\n",
              "      <th>2</th>\n",
              "      <td>chr1</td>\n",
              "      <td>791544</td>\n",
              "      <td>T</td>\n",
              "      <td>TGAATGGAATGGAATC</td>\n",
              "      <td>70.730003</td>\n",
              "      <td>25</td>\n",
              "      <td>0.5</td>\n",
              "      <td>1</td>\n",
              "      <td>16</td>\n",
              "      <td>16</td>\n",
              "      <td>TGAATGGAAT</td>\n",
              "      <td>GATTCCATTC</td>\n",
              "      <td>26</td>\n",
              "      <td>28</td>\n",
              "    </tr>\n",
              "    <tr>\n",
              "      <th>3</th>\n",
              "      <td>chr1</td>\n",
              "      <td>820897</td>\n",
              "      <td>G</td>\n",
              "      <td>GCCAGCAGATCCACCCTGTCTACACTACCTGCCTGGGCAGTAGTTC...</td>\n",
              "      <td>479.730011</td>\n",
              "      <td>24</td>\n",
              "      <td>0.5</td>\n",
              "      <td>1</td>\n",
              "      <td>141</td>\n",
              "      <td>141</td>\n",
              "      <td>GCCAGCAGAT</td>\n",
              "      <td>ACAGGCAGGT</td>\n",
              "      <td>32</td>\n",
              "      <td>32</td>\n",
              "    </tr>\n",
              "  </tbody>\n",
              "</table>\n",
              "</div>"
            ],
            "text/plain": [
              "  CHROM     POS REF                                                ALT  \\\n",
              "0  chr1   84002   G                                  GAAAGAAAGAAAGAAAA   \n",
              "1  chr1  789680   A                                        AGGAATGGAAT   \n",
              "1  chr1  789680   A                                   AGGAATGGAATGGAAT   \n",
              "2  chr1  791544   T                                   TGAATGGAATGGAATC   \n",
              "3  chr1  820897   G  GCCAGCAGATCCACCCTGTCTACACTACCTGCCTGGGCAGTAGTTC...   \n",
              "\n",
              "         QUAL  DP   AF  GENOTYPE  ALT_lEN  INSERT  FWD_PRIMER  REV_PRIMER  \\\n",
              "0   85.750000   4  0.5         1       17      17  GAAAGAAAGA  TTTTCTTTCT   \n",
              "1  562.729980  24  0.5         1       11      11  AGGAATGGAA  ATTCCATTCC   \n",
              "1  562.729980  24  0.5         1       16      16  AGGAATGGAA  ATTCCATTCC   \n",
              "2   70.730003  25  0.5         1       16      16  TGAATGGAAT  GATTCCATTC   \n",
              "3  479.730011  24  0.5         1      141     141  GCCAGCAGAT  ACAGGCAGGT   \n",
              "\n",
              "   TM_FWD  TM_REV  \n",
              "0      26      24  \n",
              "1      28      28  \n",
              "1      28      28  \n",
              "2      26      28  \n",
              "3      32      32  "
            ]
          },
          "execution_count": 114,
          "metadata": {},
          "output_type": "execute_result"
        }
      ],
      "source": [
        "expanded_vcf[\"TM_FWD\"] = expanded_vcf[\"FWD_PRIMER\"].apply(melting_temp)\n",
        "expanded_vcf[\"TM_REV\"] = expanded_vcf[\"REV_PRIMER\"].apply(melting_temp)\n",
        "expanded_vcf.head()"
      ]
    },
    {
      "cell_type": "markdown",
      "metadata": {
        "id": "_pbOd-9UEgSj"
      },
      "source": [
        "Question 5: Subset your DataFrame to select insertions larger than 50 bp. Save this subset as a new DataFrame. Apply your functions from (b) and (c) to this new DataFrame and store the results in two new columns. (+20 points)"
      ]
    },
    {
      "cell_type": "markdown",
      "metadata": {
        "id": "iqREwCGEJPNE"
      },
      "source": []
    },
    {
      "cell_type": "code",
      "execution_count": 129,
      "metadata": {
        "id": "g0ZlkCQfFHE5"
      },
      "outputs": [],
      "source": [
        "#Just renaming for congrunecy (l > L\n",
        "expanded_vcf = expanded_vcf.rename(columns={\"ALT_lEN\": \"ALT_LEN\"})"
      ]
    },
    {
      "cell_type": "code",
      "execution_count": 135,
      "metadata": {},
      "outputs": [],
      "source": [
        "expanded_vcf.head()\n",
        "#accidentally made a new column when changing column names\n",
        "expanded_vcf = expanded_vcf.iloc[:, :-1]\n"
      ]
    },
    {
      "cell_type": "code",
      "execution_count": 136,
      "metadata": {},
      "outputs": [
        {
          "data": {
            "text/html": [
              "<div>\n",
              "<style scoped>\n",
              "    .dataframe tbody tr th:only-of-type {\n",
              "        vertical-align: middle;\n",
              "    }\n",
              "\n",
              "    .dataframe tbody tr th {\n",
              "        vertical-align: top;\n",
              "    }\n",
              "\n",
              "    .dataframe thead th {\n",
              "        text-align: right;\n",
              "    }\n",
              "</style>\n",
              "<table border=\"1\" class=\"dataframe\">\n",
              "  <thead>\n",
              "    <tr style=\"text-align: right;\">\n",
              "      <th></th>\n",
              "      <th>CHROM</th>\n",
              "      <th>POS</th>\n",
              "      <th>REF</th>\n",
              "      <th>ALT</th>\n",
              "      <th>QUAL</th>\n",
              "      <th>DP</th>\n",
              "      <th>AF</th>\n",
              "      <th>GENOTYPE</th>\n",
              "      <th>ALT_LEN</th>\n",
              "      <th>INSERT</th>\n",
              "      <th>FWD_PRIMER</th>\n",
              "      <th>REV_PRIMER</th>\n",
              "      <th>TM_FWD</th>\n",
              "      <th>TM_REV</th>\n",
              "    </tr>\n",
              "  </thead>\n",
              "  <tbody>\n",
              "    <tr>\n",
              "      <th>3</th>\n",
              "      <td>chr1</td>\n",
              "      <td>820897</td>\n",
              "      <td>G</td>\n",
              "      <td>GCCAGCAGATCCACCCTGTCTACACTACCTGCCTGGGCAGTAGTTC...</td>\n",
              "      <td>479.730011</td>\n",
              "      <td>24</td>\n",
              "      <td>0.5</td>\n",
              "      <td>1</td>\n",
              "      <td>141</td>\n",
              "      <td>141</td>\n",
              "      <td>GCCAGCAGAT</td>\n",
              "      <td>ACAGGCAGGT</td>\n",
              "      <td>32</td>\n",
              "      <td>32</td>\n",
              "    </tr>\n",
              "    <tr>\n",
              "      <th>17</th>\n",
              "      <td>chr1</td>\n",
              "      <td>1068824</td>\n",
              "      <td>G</td>\n",
              "      <td>GGCCACGCGGGCTGTGCAGATGCAGGTGCGGCGGGGCGGGGCCACG...</td>\n",
              "      <td>1318.729980</td>\n",
              "      <td>29</td>\n",
              "      <td>1.0</td>\n",
              "      <td>3</td>\n",
              "      <td>79</td>\n",
              "      <td>79</td>\n",
              "      <td>GGCCACGCGG</td>\n",
              "      <td>TCTGCCCCGC</td>\n",
              "      <td>38</td>\n",
              "      <td>36</td>\n",
              "    </tr>\n",
              "    <tr>\n",
              "      <th>28</th>\n",
              "      <td>chr1</td>\n",
              "      <td>1565684</td>\n",
              "      <td>T</td>\n",
              "      <td>TGGTGCAGGCAGAGAACAGACGTCGCGATGGGCCCGACGGTGCTGG...</td>\n",
              "      <td>2138.729980</td>\n",
              "      <td>39</td>\n",
              "      <td>1.0</td>\n",
              "      <td>3</td>\n",
              "      <td>97</td>\n",
              "      <td>97</td>\n",
              "      <td>TGGTGCAGGC</td>\n",
              "      <td>CCCCTGAGCC</td>\n",
              "      <td>34</td>\n",
              "      <td>36</td>\n",
              "    </tr>\n",
              "    <tr>\n",
              "      <th>35</th>\n",
              "      <td>chr1</td>\n",
              "      <td>1749605</td>\n",
              "      <td>C</td>\n",
              "      <td>CGTCCATGCATATTTTTCTGTGTGATGTGTCTGTGTGTGTGTCTCA...</td>\n",
              "      <td>705.729980</td>\n",
              "      <td>14</td>\n",
              "      <td>1.0</td>\n",
              "      <td>3</td>\n",
              "      <td>51</td>\n",
              "      <td>51</td>\n",
              "      <td>CGTCCATGCA</td>\n",
              "      <td>ACCACTGAGA</td>\n",
              "      <td>32</td>\n",
              "      <td>30</td>\n",
              "    </tr>\n",
              "    <tr>\n",
              "      <th>37</th>\n",
              "      <td>chr1</td>\n",
              "      <td>1993704</td>\n",
              "      <td>A</td>\n",
              "      <td>AGGGCACAGTGGCTCATGCCTGTAATCCCAGCAACATGGGAGCCTG...</td>\n",
              "      <td>1969.729980</td>\n",
              "      <td>46</td>\n",
              "      <td>1.0</td>\n",
              "      <td>3</td>\n",
              "      <td>148</td>\n",
              "      <td>148</td>\n",
              "      <td>AGGGCACAGT</td>\n",
              "      <td>GGCCACTTTT</td>\n",
              "      <td>32</td>\n",
              "      <td>30</td>\n",
              "    </tr>\n",
              "  </tbody>\n",
              "</table>\n",
              "</div>"
            ],
            "text/plain": [
              "   CHROM      POS REF                                                ALT  \\\n",
              "3   chr1   820897   G  GCCAGCAGATCCACCCTGTCTACACTACCTGCCTGGGCAGTAGTTC...   \n",
              "17  chr1  1068824   G  GGCCACGCGGGCTGTGCAGATGCAGGTGCGGCGGGGCGGGGCCACG...   \n",
              "28  chr1  1565684   T  TGGTGCAGGCAGAGAACAGACGTCGCGATGGGCCCGACGGTGCTGG...   \n",
              "35  chr1  1749605   C  CGTCCATGCATATTTTTCTGTGTGATGTGTCTGTGTGTGTGTCTCA...   \n",
              "37  chr1  1993704   A  AGGGCACAGTGGCTCATGCCTGTAATCCCAGCAACATGGGAGCCTG...   \n",
              "\n",
              "           QUAL  DP   AF  GENOTYPE  ALT_LEN  INSERT  FWD_PRIMER  REV_PRIMER  \\\n",
              "3    479.730011  24  0.5         1      141     141  GCCAGCAGAT  ACAGGCAGGT   \n",
              "17  1318.729980  29  1.0         3       79      79  GGCCACGCGG  TCTGCCCCGC   \n",
              "28  2138.729980  39  1.0         3       97      97  TGGTGCAGGC  CCCCTGAGCC   \n",
              "35   705.729980  14  1.0         3       51      51  CGTCCATGCA  ACCACTGAGA   \n",
              "37  1969.729980  46  1.0         3      148     148  AGGGCACAGT  GGCCACTTTT   \n",
              "\n",
              "    TM_FWD  TM_REV  \n",
              "3       32      32  \n",
              "17      38      36  \n",
              "28      34      36  \n",
              "35      32      30  \n",
              "37      32      30  "
            ]
          },
          "execution_count": 136,
          "metadata": {},
          "output_type": "execute_result"
        }
      ],
      "source": [
        "select_subset = expanded_vcf[expanded_vcf[\"ALT_LEN\"] > 50]\n",
        "select_subset.head()"
      ]
    }
  ],
  "metadata": {
    "colab": {
      "include_colab_link": true,
      "provenance": []
    },
    "kernelspec": {
      "display_name": "vs-py",
      "language": "python",
      "name": "python3"
    },
    "language_info": {
      "codemirror_mode": {
        "name": "ipython",
        "version": 3
      },
      "file_extension": ".py",
      "mimetype": "text/x-python",
      "name": "python",
      "nbconvert_exporter": "python",
      "pygments_lexer": "ipython3",
      "version": "3.11.13"
    }
  },
  "nbformat": 4,
  "nbformat_minor": 0
}
