{
  "cells": [
    {
      "cell_type": "markdown",
      "metadata": {
        "id": "ezoSebdeEPO3"
      },
      "source": [
        "# Problem 1: FASTA Reverse Complement Challenge\n",
        "## Background\n",
        "FASTA files:\n",
        "*   Complement: Replace each base with its complement (A↔T, C↔G).\n",
        "*   Reverse: Reverse the complemented sequence.\n",
        "\n",
        "For example:\n",
        "\n",
        "```\n",
        "Original: ATCG\n",
        "Complement: TAGC\n",
        "Reverse complement: CGAT\n",
        "```\n",
        "Your task is to parse a FASTA file and produce the reverse complement of each sequence.\n",
        "\n",
        "## Task Description\n",
        "Read a standard FASTA file (provided below). For each sequence:\n",
        "\n",
        "*   Compute its reverse complement\n",
        "*   Output the result in FASTA format with the same header/identifier\n",
        "*   Write the output to a new file called 'reverse_complement.fasta'.\n",
        "\n",
        "```\n",
        ">@LH00469:425:22WK5TLT4:8:1101:13025:1056 1:N:0:GTCTAATGGC+CCTGACCACT\n",
        "GATTGAGGGCAGCACCATCTACCACAAGACCGAGTACCGCGAGCGCCGCAACCATTACGCATTGTTCACCGTCAACACGCCCATTGACGGCTTTGACACGAGCCGGGACGCCTTTTTAGGCGCATGGCGCAGCAATGCGAACCCCGAGGTC\n",
        ">@LH00469:425:22WK5TLT4:8:1101:16650:1056 1:N:0:GTCTAATGGC+CCTGACCACT\n",
        "CAGCCACGCTCATGCCGATGCCTGTGCAGAGGATGGCAAGCAGACGCGGCAGGCGGGAGATCAGAAAGATCTCCCATGTTTCCACGCTGCCTGTAAACAGGTCAGAAGGCCGGATGTCCAGCACCCCGACAAACAAAGAACAAACCGAAAG\n",
        "```\n",
        "## Requirements\n",
        "\n",
        "1.   Your script should accept the FASTA file path as a command-line argument.\n",
        "2.   Preserve the original identifiers (lines starting with >).\n",
        "\n",
        "## Expected Output\n",
        "Input (example.fasta):\n",
        "\n",
        "```\n",
        ">seq1\n",
        "ATGCCGTAGC\n",
        ">seq2\n",
        "GGTTAACC\n",
        "```\n",
        "\n",
        "Expected output:\n",
        "```\n",
        ">seq1\n",
        "GCTACGGCAT\n",
        ">seq2\n",
        "GGTTTAACC\n",
        "```\n",
        "\n",
        "## Hint\n",
        "Use a dictionary to map each base to its complement:\n",
        "\n",
        "``` python\n",
        "complement = {'A': 'T', 'T': 'A', 'C': 'G', 'G': 'C'}\n",
        "```\n"
      ]
    },
    {
      "cell_type": "markdown",
      "metadata": {
        "id": "qnc43vlGbjLQ"
      },
      "source": [
        "Going off-script for a solid bit to practice maniuplating fastq files"
      ]
    },
    {
      "cell_type": "code",
      "execution_count": null,
      "metadata": {
        "id": "kP6k-nJEKT6U"
      },
      "outputs": [],
      "source": [
        "# 1) write fastq file contents into a fasta file format:\n",
        "fastq_text = \"\"\"\n",
        "@LH00469:425:22WK5TLT4:8:1101:13025:1056 1:N:0:GTCTAATGGC+CCTGACCACT\n",
        "GATTGAGGGCAGCACCATCTACCACAAGACCGAGTACCGCGAGCGCCGCAACCATTACGCATTGTTCACCGTCAACACGCCCATTGACGGCTTTGACACGAGCCGGGACGCCTTTTTAGGCGCATGGCGCAGCAATGCGAACCCCGAGGTC\n",
        "@LH00469:425:22WK5TLT4:8:1101:16650:1056 1:N:0:GTCTAATGGC+CCTGACCACT\n",
        "CAGCCACGCTCATGCCGATGCCTGTGCAGAGGATGGCAAGCAGACGCGGCAGGCGGGAGATCAGAAAGATCTCCCATGTTTCCACGCTGCCTGTAAACAGGTCAGAAGGCCGGATGTCCAGCACCCCGACAAACAAAGAACAAACCGAAAG\n",
        "\"\"\"\n",
        "#2)write text to file:\n",
        "with open(\"test.fastq\", \"w\") as f:\n",
        "    f.write(fastq_text.strip())"
      ]
    },
    {
      "cell_type": "code",
      "execution_count": null,
      "metadata": {
        "colab": {
          "base_uri": "https://localhost:8080/"
        },
        "id": "4Ws-XORlLbwH",
        "outputId": "30ac8378-8241-4d53-9678-a1827fdd5766"
      },
      "outputs": [],
      "source": [
        "!head test.fastq"
      ]
    },
    {
      "cell_type": "code",
      "execution_count": null,
      "metadata": {
        "colab": {
          "base_uri": "https://localhost:8080/"
        },
        "id": "LNWdPAjcLxfI",
        "outputId": "35e6089d-3d99-4f9f-99c6-3c2bfb4b3434"
      },
      "outputs": [
        {
          "name": "stdout",
          "output_type": "stream",
          "text": [
            ">LH00469\n",
            "GATTGAGGGCAGCACCATCTACCACAAGACCGAGTACCGCGAGCGCCGCAACCATTACGCATTGTTCACCGTCAACACGCCCATTGACGGCTTTGACACGAGCCGGGACGCCTTTTTAGGCGCATGGCGCAGCAATGCGAACCCCGAGGTC\n",
            ">LH00469\n",
            "CAGCCACGCTCATGCCGATGCCTGTGCAGAGGATGGCAAGCAGACGCGGCAGGCGGGAGATCAGAAAGATCTCCCATGTTTCCACGCTGCCTGTAAACAGGTCAGAAGGCCGGATGTCCAGCACCCCGACAAACAAAGAACAAACCGAAAG\n"
          ]
        }
      ],
      "source": [
        "#3) output fasta file from fastq (bash)\n",
        "     # -A1 grab header + sequence line; (grep -v '^\\+' would remove quality scores if they were present)\n",
        "     # sed -e 's/:.*$//' removes everything after the colon, including the colon\n",
        "     # .* any number of characters up to end of line ($)\n",
        "\n",
        "!grep -A1 '^@' test.fastq | sed -e 's/^@/>/' -e 's/:.*$//' > test.fasta\n",
        "!head test.fasta"
      ]
    },
    {
      "cell_type": "code",
      "execution_count": null,
      "metadata": {
        "id": "vlrGycaNRq9Q"
      },
      "outputs": [],
      "source": [
        "#practice fastq > fasta in python where seq is kept as a string for manipulation\n",
        "\n",
        "fasta_lines = [] #create empty list\n",
        "lines = fastq_text.strip().split(\"\\n\")  # remove any white space, split text into lines\n",
        "\n",
        "for i in range(0, len(lines), 2): # Iterate over lines, steps of 2 (header + sequence)\n",
        "    header = \">\" + lines[i].split()[0][1:].split(\":\")[0]\n",
        "    # assign > to headers; select ith line; split to select only the first field [0]; remove 1st character (@) [1:]; split(\":\") keeps only label after :\n",
        "    seq = lines[i+1] #assigns line after ith line \"seq\" data\n",
        "    fasta_lines.append(header)\n",
        "    fasta_lines.append(seq)\n",
        "\n",
        "    fasta_text = \"\\n\".join(fasta_lines) # convert to text to save as file\n",
        "\n",
        "with open (\"fasta_file\", \"w\") as f: #option to write text to file\n",
        "  f.write(fasta_text)"
      ]
    },
    {
      "cell_type": "code",
      "execution_count": null,
      "metadata": {
        "colab": {
          "base_uri": "https://localhost:8080/"
        },
        "id": "cYpYveFpX0P7",
        "outputId": "94a44f78-0880-4e1b-e1a6-0400b273d23f"
      },
      "outputs": [
        {
          "name": "stdout",
          "output_type": "stream",
          "text": [
            ">LH00469\n",
            "GATTGAGGGCAGCACCATCTACCACAAGACCGAGTACCGCGAGCGCCGCAACCATTACGCATTGTTCACCGTCAACACGCCCATTGACGGCTTTGACACGAGCCGGGACGCCTTTTTAGGCGCATGGCGCAGCAATGCGAACCCCGAGGTC\n",
            ">LH00469\n",
            "CAGCCACGCTCATGCCGATGCCTGTGCAGAGGATGGCAAGCAGACGCGGCAGGCGGGAGATCAGAAAGATCTCCCATGTTTCCACGCTGCCTGTAAACAGGTCAGAAGGCCGGATGTCCAGCACCCCGACAAACAAAGAACAAACCGAAAG"
          ]
        }
      ],
      "source": [
        "!head fasta_file"
      ]
    },
    {
      "cell_type": "code",
      "execution_count": null,
      "metadata": {
        "id": "b1HAjEr94M1c"
      },
      "outputs": [],
      "source": [
        "#practice again but with function (@LH00469:425:22WK5TLT4:8:1101:13025:1056 1:N:0:GTCTAATGGC+CCTGACCACT \\n GATTGAGGGCAGCACCATCTACCACAAGACCGAGTACCGCGAGCGCCGCAACCATTACGCATTGTTCAC)\n",
        "\n",
        "fastq_text = \"\"\"@LH00469:425:22WK5TLT4:8:1101:13025:1056 1:N:0:GTCTAATGGC+CCTGACCACT\n",
        "GATTGAGGGCAGCACCATCTACCACAAGACCGAGTACCGCGAGCGCCGCAACCATTACGCATTGTTCACCGTCAACACGCCCATTGACGGCTTTGACACGAGCCGGGACGCCTTTTTAGGCGCATGGCGCAGCAATGCGAACCCCGAGGTC\n",
        "@LH00469:425:22WK5TLT4:8:1101:16650:1056 1:N:0:GTCTAATGGC+CCTGACCACT\n",
        "CAGCCACGCTCATGCCGATGCCTGTGCAGAGGATGGCAAGCAGACGCGGCAGGCGGGAGATCAGAAAGATCTCCCATGTTTCCACGCTGCCTGTAAACAGGTCAGAAGGCCGGATGTCCAGCACCCCGACAAACAAAGAACAAACCGAAAG\"\"\"\n",
        "\n",
        "with open(\"fastq_file\", \"w\") as f:\n",
        "  f.write(fastq_text)\n",
        "\n",
        "\n",
        "def fastq_to_fasta(input_fastq, output_fasta):\n",
        "  with open(input_fastq, \"r\") as fin, open (output_fasta, \"w\") as fout: #assign fin/fout variables to files\n",
        "    while True:\n",
        "      header = fin.readline()\n",
        "      if not header:\n",
        "        break\n",
        "      seq = fin.readline()\n",
        "      #plus = fin.readline() # would ignore line if present\n",
        "      #qual = fin.readline() # would ignore if present\n",
        "      ID = header.strip().split()[0][1:].split(\":\")[0]\n",
        "      fout.write(f\">{ID}\\n{seq.strip()}\\n\")\n",
        "  return\n"
      ]
    },
    {
      "cell_type": "code",
      "execution_count": null,
      "metadata": {
        "id": "35G3qySvEc9j"
      },
      "outputs": [],
      "source": [
        "fastq_to_fasta(\"fastq_file\", \"output_fasta\")"
      ]
    },
    {
      "cell_type": "code",
      "execution_count": null,
      "metadata": {
        "colab": {
          "base_uri": "https://localhost:8080/"
        },
        "id": "-oode0ddG-RN",
        "outputId": "80850ef1-2f08-4bf5-815b-d888455131c8"
      },
      "outputs": [
        {
          "name": "stdout",
          "output_type": "stream",
          "text": [
            ">LH00469\n",
            "GATTGAGGGCAGCACCATCTACCACAAGACCGAGTACCGCGAGCGCCGCAACCATTACGCATTGTTCACCGTCAACACGCCCATTGACGGCTTTGACACGAGCCGGGACGCCTTTTTAGGCGCATGGCGCAGCAATGCGAACCCCGAGGTC\n",
            ">LH00469\n",
            "CAGCCACGCTCATGCCGATGCCTGTGCAGAGGATGGCAAGCAGACGCGGCAGGCGGGAGATCAGAAAGATCTCCCATGTTTCCACGCTGCCTGTAAACAGGTCAGAAGGCCGGATGTCCAGCACCCCGACAAACAAAGAACAAACCGAAAG\n"
          ]
        }
      ],
      "source": [
        "!head output_fasta"
      ]
    },
    {
      "cell_type": "code",
      "execution_count": null,
      "metadata": {
        "id": "831gJzx4HjKI"
      },
      "outputs": [],
      "source": [
        "#AGAIN (feeling ruuuusty) but keep 16650 (x coordinate of Illumina cluster) to differentiate reads\n",
        "\n",
        "fastq_text2 = \"\"\"@LH00444:425:22WK5TLT4:8:1101:13025:1056 1:N:0:GTCTAATGGC+CCTGACCACT\n",
        "GATTGAGGGCAGCACCATCTACCACAAGACCGAGTACCGCGAGCGCCGCAACCATTACGCATTGTTCACCGTCAACACGCCCATTGACGGCTTTGACACGAGCCGGGACGCCTTTTTAGGCGCATGGCGCAGCAATGCGAACCCCGAGGTC\n",
        "@LH00444:425:22WK5TLT4:8:1101:16650:1056 1:N:0:GTCTAATGGC+CCTGACCACT\n",
        "CAGCCACGCTCATGCCGATGCCTGTGCAGAGGATGGCAAGCAGACGCGGCAGGCGGGAGATCAGAAAGATCTCCCATGTTTCCACGCTGCCTGTAAACAGGTCAGAAGGCCGGATGTCCAGCACCCCGACAAACAAAGAACAAACCGAAAG\"\"\"\n",
        "\n",
        "with open(\"fastq_text2\", \"w\") as f:\n",
        "  f.write(fastq_text2)\n",
        "\n",
        "def fastq_to_fasta2(input_2, output_2):\n",
        "  \"\"\"Convert 2-line FASTQ (header + seq) to FASTA.\n",
        "    Header: >{id_after_@}{sep}{x_coord}\n",
        "    Example: >LH00444:16650\n",
        "  \"\"\"\n",
        "  with open(input_2, \"r\") as fin, open(output_2, \"w\") as fout: #read is default; don't technically need \"r\"\n",
        "    while True:\n",
        "      header_line = fin.readline()\n",
        "      if not header_line:\n",
        "        break\n",
        "      header_line = header_line.strip()\n",
        "      header_comps = header_line.split()[0] #first line as a string\n",
        "      header = header_comps[1:].split(\":\") #drop '@', split at sep(:)\n",
        "      ID = header[0]\n",
        "      x_coord = header[5]\n",
        "\n",
        "      seq_line= fin.readline() #read next line in sequence (could use this logic if there was a + and qual line in the fastq)\n",
        "      seq = seq_line.strip()\n",
        "      if not seq_line:\n",
        "        break\n",
        "      fout.write(f\">{ID}:{x_coord}\\n{seq}\\n\")\n",
        "  return\n"
      ]
    },
    {
      "cell_type": "markdown",
      "metadata": {
        "id": "lSHNSWqAXoLk"
      },
      "source": [
        "#Recurring error:  cannot apply split functon to a list\n",
        "\n",
        "Issue is header_line.split()[1:] is SLICING the line by whitespace: \\\n",
        "['@LH00444:...', '1:N:0:GTCTA'][1:] \\\n",
        " → ['1:N:0:GTCTA']\n",
        "\n",
        "whereas header_line.split()[0] is using indexing and retains string quality: \\\n",
        "first_token = header_line.split()[0]    \\\n",
        "['1:N:0:GTCTA'] \\\n",
        " → '@LH00444:425:22WK5TLT4:8:1101:16650:1056'"
      ]
    },
    {
      "cell_type": "code",
      "execution_count": null,
      "metadata": {
        "colab": {
          "base_uri": "https://localhost:8080/"
        },
        "id": "y3QLOHwNQpR_",
        "outputId": "c6012861-2c4d-4c34-80ae-be4797e02759"
      },
      "outputs": [
        {
          "name": "stdout",
          "output_type": "stream",
          "text": [
            ">LH00444:13025\n",
            "GATTGAGGGCAGCACCATCTACCACAAGACCGAGTACCGCGAGCGCCGCAACCATTACGCATTGTTCACCGTCAACACGCCCATTGACGGCTTTGACACGAGCCGGGACGCCTTTTTAGGCGCATGGCGCAGCAATGCGAACCCCGAGGTC\n",
            ">LH00444:16650\n",
            "CAGCCACGCTCATGCCGATGCCTGTGCAGAGGATGGCAAGCAGACGCGGCAGGCGGGAGATCAGAAAGATCTCCCATGTTTCCACGCTGCCTGTAAACAGGTCAGAAGGCCGGATGTCCAGCACCCCGACAAACAAAGAACAAACCGAAAG\n"
          ]
        }
      ],
      "source": [
        "fastq_to_fasta2(\"fastq_text2\", \"fasta_text2\")\n",
        "!head fasta_text2"
      ]
    },
    {
      "cell_type": "code",
      "execution_count": null,
      "metadata": {
        "id": "2VY1HtiQQ5ww"
      },
      "outputs": [],
      "source": [
        "# Answer Problem 1 here:\n",
        "complement = {'A': 'T', 'T': 'A', 'C': 'G', 'G': 'C'}\n",
        "\n",
        "#read fasta\n",
        "def rev_complement(fasta_file, output_file=\"reverse_complement.fasta\"):\n",
        "  rev_comp_lines = []\n",
        "  with open(fasta_file, 'r') as f:\n",
        "    for line in f:\n",
        "      line = line.strip()\n",
        "      if line.startswith('>'):\n",
        "        rev_comp_lines.append(line)\n",
        "      else:\n",
        "          seq = line.strip()\n",
        "          rev_comp_seq = ''\n",
        "          for base in seq:\n",
        "            rev_comp_seq += complement.get(base, 'N') #key is base, from dictionary; if base is not in dictionary, return N instead of error\n",
        "          rev_comp_lines.append(rev_comp_seq[::-1])\n",
        "\n",
        "#return rev_comp_lines\n",
        "\n",
        "#rev_complement(fasta_text) - gives error - too long\n",
        "\n",
        "  with open(output_file, 'w') as out_fasta:\n",
        "        for line in rev_comp_lines:\n",
        "          out_fasta.write(line + \"\\n\")"
      ]
    },
    {
      "cell_type": "code",
      "execution_count": null,
      "metadata": {
        "colab": {
          "base_uri": "https://localhost:8080/"
        },
        "id": "6uqO4ns6dRn1",
        "outputId": "44143b2e-0902-4b30-ad90-b76397440eb3"
      },
      "outputs": [
        {
          "name": "stdout",
          "output_type": "stream",
          "text": [
            ">LH00469\n",
            "GACCTCGGGGTTCGCATTGCTGCGCCATGCGCCTAAAAAGGCGTCCCGGCTCGTGTCAAAGCCGTCAATGGGCGTGTTGACGGTGAACAATGCGTAATGGTTGCGGCGCTCGCGGTACTCGGTCTTGTGGTAGATGGTGCTGCCCTCAATC\n",
            ">LH00469\n",
            "CTTTCGGTTTGTTCTTTGTTTGTCGGGGTGCTGGACATCCGGCCTTCTGACCTGTTTACAGGCAGCGTGGAAACATGGGAGATCTTTCTGATCTCCCGCCTGCCGCGTCTGCTTGCCATCCTCTGCACAGGCATCGGCATGAGCGTGGCTG\n"
          ]
        }
      ],
      "source": [
        "rev_complement(\"test.fasta\")\n",
        "!head reverse_complement.fasta"
      ]
    },
    {
      "cell_type": "markdown",
      "metadata": {
        "id": "w8PRJbWDCWHP"
      },
      "source": [
        "# Problem 2: FASTQ Q Score\n",
        "\n",
        "## Background\n",
        "\n",
        "In next-generation sequencing (NGS), FASTQ files are used to store biological sequence data, along with quality scores for each base. The Phred quality score, or Q score, is a measurement of base calling accuracy. Each Q score is encoded as ASCII characters and is commonly presented as a Q30 value, which corresponds to a base call accuracy of 99.9%.\n",
        "\n",
        "Your task is to write a script that calculates the percentage of bases with Q30 or higher in a given FASTQ file.\n",
        "\n",
        "## Task Description\n",
        "### Read a standard FASTQ file below.\n",
        "\n",
        "Parse the quality lines to extract Phred scores (ASCII 33 offset).\n",
        "\n",
        "Computes the total number of bases and the number of bases with Phred score ≥ 30 (Q30).\n",
        "\n",
        "Outputs the percentage of Q30 bases rounded to two decimal places.\n",
        "\n",
        "standard FASTQ file\n",
        "```\n",
        "@LH00469:425:22WK5TLT4:8:1101:13025:1056 1:N:0:GTCTAATGGC+CCTGACCACT\n",
        "GATTGAGGGCAGCACCATCTACCACAAGACCGAGTACCGCGAGCGCCGCAACCATTACGCATTGTTCACCGTCAACACGCCCATTGACGGCTTTGACACGAGCCGGGACGCCTTTTTAGGCGCATGGCGCAGCAATGCGAACCCCGAGGTC\n",
        "+\n",
        "I#IIIIIIIIIIIIIIIIIIIII9I9IIIIIIIIIIIIIIIIIIIIIIIIIIIIII-IIIIIIIIII9IIIIII9IIIIIIIIIIIIIIIIIIIIIIIIIIIIIIIIIIII-9IIIIIIIIIIIIIIIIIIIIIIIIII9IIIIIIIIII-\n",
        "@LH00469:425:22WK5TLT4:8:1101:16650:1056 1:N:0:GTCTAATGGC+CCTGACCACT\n",
        "CAGCCACGCTCATGCCGATGCCTGTGCAGAGGATGGCAAGCAGACGCGGCAGGCGGGAGATCAGAAAGATCTCCCATGTTTCCACGCTGCCTGTAAACAGGTCAGAAGGCCGGATGTCCAGCACCCCGACAAACAAAGAACAAACCGAAAG\n",
        "+\n",
        "I#IIIIIIIIIIIIIIIIIIIIIIIIIIIIIIIIIIIIIIIIIIIIIIIIIIIIIIIIIIIIIIIIII9IIIIIIIIIIIIIIIIIIIIIIIIIII-IIIII9IIIII-I-IIIIIIIIIIIIIIIIIIIIIIIIIIII-IIIIIII9III\n",
        "```\n",
        "\n",
        "\n",
        "## Requirements\n",
        "Assume the FASTQ file is properly formatted (4 lines per record).\n",
        "\n",
        "Your script should accept the FASTQ file path as a command-line argument.\n",
        "\n",
        "\n",
        "\n",
        "## Expected Output\n",
        "\n",
        "```\n",
        "Q30 percentage: 92.53%\n",
        "```\n",
        "### Hint\n",
        "`Ignore sequence and identifier lines; only parse quality score lines`.\n",
        "\n",
        "`Phred quality score = ord(char) - 33`\n"
      ]
    },
    {
      "cell_type": "code",
      "execution_count": null,
      "metadata": {
        "colab": {
          "base_uri": "https://localhost:8080/"
        },
        "id": "0QVOHBHeRJAa",
        "outputId": "d12e297b-d966-43a9-ff3a-0a7417143cde"
      },
      "outputs": [
        {
          "name": "stdout",
          "output_type": "stream",
          "text": [
            "/bin/bash: -c: line 1: syntax error near unexpected token `|'\n",
            "/bin/bash: -c: line 1: `awk '^@' Test.fasq <built-in function print> | grep -Eo \"[A/T/G/C/N]+$\" |'\n"
          ]
        }
      ],
      "source": [
        "# Answer Problem 2 here:\n",
        "!awk F:'$"
      ]
    },
    {
      "cell_type": "markdown",
      "metadata": {
        "id": "Q9KVkvubBIPq"
      },
      "source": [
        "# Problem 3:  VCF File Processing Test\n",
        "\n",
        "## Background\n",
        "The Variant Call Format (VCF) is widely used in bioinformatics to report genomic variants, including SNPs and INDELs. A VCF file consists of metadata (lines starting with #), a header, and variant entries with fields such as chromosome, position, reference and alternate alleles, quality scores, filters, annotations, and sample genotypes.\n",
        "\n",
        "## Task Description\n",
        "This task will test your ability to manipulate and parse VCF files.\n",
        "\n",
        "## Test Case\n",
        "TEST.vcf\n",
        "```\n",
        "##fileformat=VCFv4.2\n",
        "##FILTER=<ID=PASS,Description=\"All filters passed\">\n",
        "##FORMAT=<ID=GT,Number=1,Type=String,Description=\"Genotype\">\n",
        "##FORMAT=<ID=DP,Number=1,Type=Integer,Description=\"Read depth\">\n",
        "##FORMAT=<ID=GQ,Number=1,Type=Integer,Description=\"Genotype quality\">\n",
        "#CHROM\tPOS\tID\tREF\tALT\tQUAL\tFILTER\tINFO\tFORMAT\tSample1\tSample2\tSample3\n",
        "chr1\t100\t.\tA\tT\t35.2\tPASS\tDP=20\tGT:DP:GQ\t0/1:15:30\t0/0:18:35\t1/1:12:25\n",
        "chr1\t200\t.\tG\tC\t28.5\tPASS\tDP=25\tGT:DP:GQ\t0/0:20:40\t0/1:22:32\t0/1:19:28\n",
        "chr1\t300\t.\tAT\tA\t42.1\tPASS\tDP=30\tGT:DP:GQ\t1/1:25:45\t0/0:28:38\t0/1:24:35\n",
        "chr2\t150\t.\tC\tG\t15.3\tLowQual DP=8\tGT:DP:GQ\t./.:.:.\t0/0:5:10\t0/1:8:15\n",
        "chr2\t250\t.\tT\tA\t55.7\tPASS\tDP=35\tGT:DP:GQ\t0/1:30:50\t1/1:32:48\t0/0:33:52\n",
        "..\n",
        "```\n",
        "\n",
        "\n",
        "## Questions\n",
        "### P3A. Filter variants by chromosome\n",
        "Description: Extract all variants located on chromosome `chr1`.\n",
        "\n",
        "---\n",
        "\n",
        "### P3B. Filter by genomic region\n",
        "Description: Extract variants within the region chr1:150-350.\n",
        "\n",
        "---\n",
        "\n",
        "### P3C. Remove `chr` Prefix from CHROM Column\n",
        "Description: Remove the `chr` prefix from lines like `chr1`, `chr2`, etc. (`chr1` --> `1`, `chr2` --> `2`)\n",
        "\n",
        "---\n"
      ]
    },
    {
      "cell_type": "code",
      "execution_count": null,
      "metadata": {
        "colab": {
          "base_uri": "https://localhost:8080/"
        },
        "id": "rO_QW3LnRM9l",
        "outputId": "92c34f47-a47a-40f0-89b4-8e6af4735977"
      },
      "outputs": [
        {
          "name": "stdout",
          "output_type": "stream",
          "text": [
            "/bin/bash: line 1: bcftools: command not found\n",
            "/bin/bash: line 1: bcftools: command not found\n",
            "sed: -e expression #1, char 13: unknown option to `s'\n",
            "^C\n"
          ]
        }
      ],
      "source": [
        "# Answer Problem 3 here:\n",
        "#A\n",
        "!bcftools query -i '%CHROM == \"chr1\"' TEST.vcf > TEST_chr1_variants.vcf\n",
        "#B\n",
        "!bcftools query -r 'chr1:150-350' TEST.vcf > TEST_chr1_150_350.vcf\n",
        "#C\n",
        "!grep '^##' | awk '$1'| sed 's/\"chr\"/\"\"/g\\n' > no_chr.vcf\n",
        "#or\n",
        "!cat TEST.vcf | sed 's/\"chr\"/\"\"/' | awk -F '{print $1}''"
      ]
    },
    {
      "cell_type": "markdown",
      "metadata": {
        "id": "SHHkrJdHII-G"
      },
      "source": [
        "# Problem 4: Find the Most Frequent *k*-mer\n",
        "\n",
        "## Background\n",
        "Within nucleic acid sequences, a given substring of bases of length *k* is referred to as a *k*-mer.\n",
        "\n",
        "## Task Description\n",
        "Make a function which finds the most frequent *k*-mer in a given DNA sequence and report the number of occurences. If there are multiple *k*-mers with the same highest frequency, return all of them and the number of most frequent *k*-mer.\n",
        "\n",
        "\n",
        "## Input Format\n",
        "DNA sequence (string)\n",
        "- e.g. \"ATCGCGCTAGTCGCGATCGATCATCGTA\"\n",
        "\n",
        "Value of *k* (integer)\n",
        "- e.g. 3\n",
        "\n",
        "## Expected Output\n",
        "List of the most frequent *k*-mers (list) & the number of occurrences (frequency)\n",
        "- e.g. ['ATCG', 'TCGG'] 4\n",
        "\n",
        "\n",
        "## Test Case\n",
        "Find the input sequence(s) of length *k* = 5:\n",
        "```\n",
        "ATTCGGGCGAAGAGCCCCTTCCACACACCTCTGAAGCCCAGCCTCTGCAGACCTGAGACGCGGTGCTGCCTTTCTCTTTATTCAGCACAGAGACCACAGTTGGGCCGGGTGGGAGACGATGCACAGAAGAGCAGCCAGCTATGTAACCTGCCACAAATGTCACAACCAGCTGCTCTGCCTTTGTACATTCACTTCGGGGCTTAGGAACCACAAATTTGTACAAAGCTTCAA\n",
        "5\n",
        "```\n",
        "\n"
      ]
    },
    {
      "cell_type": "code",
      "execution_count": null,
      "metadata": {
        "id": "W55zi-WyRPhh"
      },
      "outputs": [],
      "source": [
        "# Answer Problem 4 here:\n"
      ]
    }
  ],
  "metadata": {
    "colab": {
      "provenance": []
    },
    "kernelspec": {
      "display_name": "Python 3",
      "name": "python3"
    },
    "language_info": {
      "name": "python"
    }
  },
  "nbformat": 4,
  "nbformat_minor": 0
}
