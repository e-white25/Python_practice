{
  "cells": [
    {
      "cell_type": "markdown",
      "metadata": {
        "colab_type": "text",
        "id": "view-in-github"
      },
      "source": [
        "<a href=\"https://colab.research.google.com/github/e-white25/Rosalind_Solutions/blob/main/ROSALIND.ipynb\" target=\"_parent\"><img src=\"https://colab.research.google.com/assets/colab-badge.svg\" alt=\"Open In Colab\"/></a>"
      ]
    },
    {
      "cell_type": "markdown",
      "metadata": {
        "id": "K7wYOZPyBJXA"
      },
      "source": [
        "# DNA/RNA"
      ]
    },
    {
      "cell_type": "code",
      "execution_count": 46,
      "metadata": {
        "id": "D2UykarQcB05"
      },
      "outputs": [],
      "source": [
        "#Update 8/24\n",
        "def fasta_to_dict(fasta_file):\n",
        "  ''' for parsing through a fasta file w/out Biopython (seqIO)\n",
        "  for smaller files, use file.readlines(); saves to memory; only use this if need to access\n",
        "  all reads at once (indexing, or analyzing total content(s))\n",
        "  for larger files, stream one line at a time w/ line.strip() for converting file contents\n",
        "  **save header as key: seq as value** '''\n",
        "\n",
        "  fasta_dict = {}\n",
        "  header = None\n",
        "  seq = []\n",
        "\n",
        "  with open(fasta_file, 'r') as file:   #read is default remember 'file' is an iterator\n",
        "    for line in file:\n",
        "      line = line.strip()\n",
        "      if not line:\n",
        "        continue      #ignores blank lines\n",
        "      if line.startswith(\">\"):\n",
        "        if header is not None:    #if not 1st header; flush/push read to record\n",
        "          fasta_dict[header] = ''.join(seq)  #assing corresponding seq to header key using empty string as sep.\n",
        "        header = line[1:].strip()   #removes '>' up to first white space (i.e just readID)\n",
        "        seq = []    #reset seq/flush\n",
        "      else:\n",
        "        seq.append(line.upper())\n",
        "\n",
        "  if header is not None:\n",
        "      fasta_dict[header] = ''.join(seq)   #flush the header+read to record at the end\n",
        "\n",
        "  return fasta_dict"
      ]
    },
    {
      "cell_type": "code",
      "execution_count": 50,
      "metadata": {
        "colab": {
          "base_uri": "https://localhost:8080/"
        },
        "id": "IG10sKCVerfj",
        "outputId": "e68ceaec-5cad-40fc-fd58-34c5f44e4529"
      },
      "outputs": [
        {
          "data": {
            "text/plain": [
              "dict_items([('seq1', 'ATCGATTCGGTA'), ('seq2', 'TTTTCCCC')])"
            ]
          },
          "execution_count": 50,
          "metadata": {},
          "output_type": "execute_result"
        }
      ],
      "source": [
        "#Update 8/24\n",
        "#Test the above on a fasta_text snippet\n",
        "\n",
        "fasta_text = \"\"\">seq1\n",
        "atcgATTC\n",
        "ggta\n",
        ">seq2\n",
        "ttttcccc\n",
        "\"\"\"\n",
        "\n",
        "with open(\"test.fa\", \"w\") as f:\n",
        "    f.write(fasta_text)\n",
        "\n",
        "T = fasta_to_dict(\"test.fa\")\n",
        "T.items()"
      ]
    },
    {
      "cell_type": "code",
      "execution_count": 83,
      "metadata": {
        "colab": {
          "base_uri": "https://localhost:8080/"
        },
        "id": "IyNBwBjJA9ma",
        "outputId": "2ecc17f2-1f87-4a5d-ef7b-272c7903b25c"
      },
      "outputs": [
        {
          "data": {
            "text/plain": [
              "(20, 12, 17, 21)"
            ]
          },
          "execution_count": 83,
          "metadata": {},
          "output_type": "execute_result"
        }
      ],
      "source": [
        "##ID: DNA\n",
        "#Return: Four integers (separated by spaces) counting the respective number of times that the symbols 'A', 'C', 'G', and 'T' occur in s\n",
        "\n",
        "# Sample Dataset\n",
        "seq1 = 'AGCTTTTCATTCTGACTGCAACGGGCAATATGTCTCTGTGTGGATTAAAAAAAGAGTGTCTGATAGCAGC'\n",
        "# Sample Output\n",
        "\n",
        "def nucleotides(seq: str):\n",
        "  s = seq.upper()\n",
        "  A = s.count('A')\n",
        "  C = s.count('C')\n",
        "  G = s.count('G')\n",
        "  T = s.count('T')\n",
        "  return A, C, G, T\n",
        "\n",
        "nucleotides(seq1)\n"
      ]
    },
    {
      "cell_type": "code",
      "execution_count": 84,
      "metadata": {
        "colab": {
          "base_uri": "https://localhost:8080/"
        },
        "id": "F6tnw46MyQBN",
        "outputId": "08609799-3803-4216-b33e-4d773f69a149"
      },
      "outputs": [
        {
          "name": "stdout",
          "output_type": "stream",
          "text": [
            "43.28%\n"
          ]
        }
      ],
      "source": [
        "#Update 8/24\n",
        "#GC content as % - throught process\n",
        "\n",
        "def GC_percent(seq: str, include_ambigulous=False) -> float:\n",
        "  '''# GC content (%) over A/C/G/T only (ignores Ns if present)'''\n",
        "  s = seq.upper()\n",
        "  A = s.count('A')\n",
        "  C = s.count('C')\n",
        "  G = s.count('G')\n",
        "  T = s.count('T')\n",
        "\n",
        "  GC_cont = []\n",
        "  GC_tot = sum([G] + [C])\n",
        "  total_bp = len(seq)\n",
        "  GC_cont = GC_tot % total_bp\n",
        "  return GC_cont, '%'\n",
        "\n",
        "#print(GC_percent((seq1), '%'))\n",
        "\n",
        "# Improved method:\n",
        "\n",
        "def GC_percent(seq: str, include_ambiguous=False) -> float: #False won't include b as N's\n",
        "  '''# GC content (%) over A/C/G/T only (ignores Ns if present)'''\n",
        "  s = seq.upper()\n",
        "  A = s.count('A')\n",
        "  C = s.count('C')\n",
        "  G = s.count('G')\n",
        "  T = s.count('T')\n",
        "  GC = sum([G] + [C])\n",
        "\n",
        " if GC == 0:\n",
        "        raise ValueError(\"No G/C bases countedd; cannot compute GC%.\")\n",
        "  if include_ambiguous: #set to true to include other bases (N)\n",
        "      total = len(s)\n",
        "      if total == 0:\n",
        "        raise ValueError(\"No valid A/C/G/T bases found; cannot compute GC%.\")\n",
        "  else:\n",
        "      total = sum([GC] + [G] + [T])\n",
        "  return 100.0 * GC / total\n",
        "\n",
        "print(f\"{GC_percent(seq1):.2f}%\")   #return a float (.2 = 2 deci)\n"
      ]
    },
    {
      "cell_type": "code",
      "execution_count": null,
      "metadata": {
        "colab": {
          "base_uri": "https://localhost:8080/",
          "height": 36
        },
        "id": "kes4D0wmHgou",
        "outputId": "4ff73a2b-bea2-48b6-89f4-0811da6dcaa7"
      },
      "outputs": [
        {
          "data": {
            "application/vnd.google.colaboratory.intrinsic+json": {
              "type": "string"
            },
            "text/plain": [
              "'GAUGGAACUUGACUACGUAAAUU'"
            ]
          },
          "execution_count": 23,
          "metadata": {},
          "output_type": "execute_result"
        }
      ],
      "source": [
        "##ID: RNA\n",
        "#Given: A DNA string\n",
        "#Return: The RNA string (not complementary, just replace Thymine w/Uracil)\n",
        "\n",
        "#Sample Dataset\n",
        "DNA_seq = 'GATGGAACTTGACTACGTAAATT'\n",
        "\n",
        "def transcribe(DNA_seq):\n",
        "  return DNA_seq.replace('T', 'U')\n",
        "\n",
        "transcribe(DNA_seq)"
      ]
    },
    {
      "cell_type": "code",
      "execution_count": 87,
      "metadata": {
        "id": "GTJ2gC9eV6r6"
      },
      "outputs": [],
      "source": [
        "##ID: REVC\n",
        "# Given: A DNA string\n",
        "# Return: The reverse complement\n",
        "\n",
        "#Sample Dataset\n",
        "DNA_seq = 'AAAACCCGGT'\n",
        "\n",
        "# cDNA_lib = {'A':'T', 'T':'A', 'C':'G', 'G':'C'}\n",
        "# for b in DNA_seq [0:len(DNA_seq)]:\n",
        "#   seq_complement = cDNA_lib[b]\n",
        "# from os import replace\n",
        "\n",
        "### This only works because there is not redundancy (as there would be if cDNA was capitalized) but isn't ideal\n",
        "# def reverse_complement(DNA_seq):\n",
        "#   DNA_seq = DNA_seq.replace('A', 't')\n",
        "#   DNA_seq = DNA_seq.replace('T', 'a')\n",
        "#   DNA_seq = DNA_seq.replace('C', 'g')\n",
        "#   DNA_seq = DNA_seq.replace('G', 'c')\n",
        "#   return DNA_seq(reverse_complement)\n",
        "\n",
        "cDNA_lib = {'A':'T', 'T':'A', 'C':'G', 'G':'C'}\n",
        "seq_complement = \"\" #create an empty string\n",
        "for base in DNA_seq:\n",
        "  seq_complement += cDNA_lib[base] #append each base to empty string\n",
        "print(seq_complement[::-1])"
      ]
    },
    {
      "cell_type": "code",
      "execution_count": 109,
      "metadata": {
        "colab": {
          "base_uri": "https://localhost:8080/"
        },
        "id": "I-2Fwdg8ynXl",
        "outputId": "a1a4300e-d4c0-44c5-a329-7c0cb589fe3a"
      },
      "outputs": [
        {
          "name": "stdout",
          "output_type": "stream",
          "text": [
            ">seq1\n",
            "atcgATTCcGATCGTTTAacg\n",
            "ggta \n",
            ">seq2\n",
            "ttttccccAAAAA\n",
            "'>seq1\\n'\n",
            "'atcgATTCcGATCGTTTAacg\\n'\n",
            "'ggta \\n'\n",
            "'>seq2\\n'\n",
            "'ttttccccAAAAA\\n'\n"
          ]
        }
      ],
      "source": [
        "#Update 8/24\n",
        "#As stated, += opperator isn't great for large files, practice looping through a fasta file\n",
        "\n",
        "fasta_text2 = \"\"\">seq1\n",
        "atcgATTCcGATCGTTTAacg\n",
        "ggta\n",
        ">seq2\n",
        "ttttccccAAAAA\n",
        "\"\"\"\n",
        "#write to file\n",
        "with open(\"test.fasta\", \"w\") as file:\n",
        "    file.write(fasta_text2)\n",
        "\n",
        "!head test.fasta\n",
        "\n",
        "#can also test this way to see format:\n",
        "with open(\"test.fasta\", \"r\") as file:\n",
        "  for line in file:\n",
        "    print(repr(line))"
      ]
    },
    {
      "cell_type": "code",
      "execution_count": 153,
      "metadata": {
        "colab": {
          "base_uri": "https://localhost:8080/"
        },
        "id": "GiQ0fjiRMvpa",
        "outputId": "6ba800a1-b9cc-4f48-8a41-7a0222d675b6"
      },
      "outputs": [
        {
          "name": "stdout",
          "output_type": "stream",
          "text": [
            ">seq1\n",
            "TACCCGTTAAACGATCGGAATCGAT\n",
            ">seq2\n",
            "TTTTTGGGGAAAA\n"
          ]
        }
      ],
      "source": [
        "# return reverse complment for each read\n",
        "# Split into two functions:\n",
        "  # > one just to generate reverse comp\n",
        "  # > then function to parse through input and write output\n",
        "\n",
        "def rev_comp_seq(seq: str) -> str:\n",
        "\n",
        "  Rev_comp_dict = {'A' : 'T',\n",
        "                 'G' : 'C',\n",
        "                 'C' : 'G',\n",
        "                 'T' : 'A'}\n",
        "\n",
        "  input_seq = seq.upper()[::-1]\n",
        "  return ''.join(Rev_comp_dict.get(b, b) for b in input_seq)    # dict.get(key, default): if key exists > returns value; if not returns input 'b'\n",
        "\n",
        "# parse through input, generate reverse comp. using above function\n",
        "# write to output attacted to header\n",
        "\n",
        "def write_rev_comp_fasta(input_path: str, output_path: str) -> str:\n",
        "\n",
        "    header = None\n",
        "    raw_seq = []\n",
        "\n",
        "    with open(input_path, \"r\") as fin, open(output_path, \"w\") as fout:\n",
        "      for sample in fin:\n",
        "        sample = sample.strip()\n",
        "        if not sample:\n",
        "          continue      #ignores blank lines\n",
        "\n",
        "        if sample.startswith(\">\"):\n",
        "          if header is not None: #flush previous record if exists\n",
        "            seq = ''.join(raw_seq) #concat original sequences tied to sample\n",
        "            rev_comp = rev_comp_seq(seq) #compute rev comp\n",
        "            fout.write(f\"{header}\\n{rev_comp}\\n\")\n",
        "\n",
        "        # next sample\n",
        "          header = sample\n",
        "          raw_seq = []\n",
        "        else:\n",
        "          raw_seq.append(sample)\n",
        "\n",
        "        # flush last record at EOF (can do  parse into generator in future instead of flush)\n",
        "        # make sure flush is outside of the loop\n",
        "      if header is not None:\n",
        "        seq = ''.join(raw_seq)\n",
        "        rev_comp = rev_comp_seq(seq)\n",
        "        fout.write(f\"{header}\\n{rev_comp}\\n\")\n",
        "\n",
        "    return output_path\n",
        "\n",
        "write_rev_comp_fasta(\"test.fasta\", \"test_rev.fasta\")\n",
        "\n",
        "!head test_rev.fasta"
      ]
    },
    {
      "cell_type": "code",
      "execution_count": null,
      "metadata": {
        "colab": {
          "base_uri": "https://localhost:8080/"
        },
        "id": "oUrLEnchqf-x",
        "outputId": "3ce8f0c5-9b7c-41ec-a7ae-5e5b77ff0d0c"
      },
      "outputs": [
        {
          "name": "stdout",
          "output_type": "stream",
          "text": [
            "AAAACCCGGT\n"
          ]
        }
      ],
      "source": [
        "##ID: REVC\n",
        "##Given the complementary output, provide the DNA seq Imput\n",
        "Output = 'ACCGGGTTTT'\n",
        "\n",
        "DNA_seq_lib = {'A':'T', 'T':'A', 'C':'G', 'G':'C'}\n",
        "DNA_imput = \"\"\n",
        "for b in Output:\n",
        "  DNA_imput += DNA_seq_lib[b]\n",
        "print(DNA_imput[::-1])"
      ]
    },
    {
      "cell_type": "code",
      "execution_count": null,
      "metadata": {
        "id": "FkFLCgcgtYJR"
      },
      "outputs": [],
      "source": [
        "##ID: GC\n",
        "\n",
        "#A commonly used method of string labeling for DNA > FASTA format. In this format, the string is introduced by a line that begins with '>',\n",
        "# followed by labeling info. Subsequent lines contain the string itself; the first line to begin with '>' indicates the label of the next string.\n",
        "\n",
        "#In Rosalind's implementation, a string in FASTA format will be labeled by the ID \"Rosalind_xxxx\", where \"xxxx\" denotes a four-digit code between 0000 and 9999.\n",
        "#Given: At most 10 DNA strings in FASTA format (of length at most 1 kbp each).\n",
        "#Return: The ID of the string having the highest GC-content, followed by the GC-content of that string.\n",
        "#Rosalind allows for a default error of 0.001 in all decimal answers unless otherwise stated; please see the note on absolute error below."
      ]
    },
    {
      "cell_type": "code",
      "execution_count": null,
      "metadata": {
        "colab": {
          "base_uri": "https://localhost:8080/"
        },
        "id": "BXOeNmRJ3wqM",
        "outputId": "8f30c162-75de-4bbf-be9d-b4a710d20aef"
      },
      "outputs": [
        {
          "name": "stdout",
          "output_type": "stream",
          "text": [
            "              ID                                           Sequence\n",
            "0  Rosalind_6404  CCTGCGGAAGATCGGCACTAGAATAGCCAGAACCGTTTCTCTGAGG...\n",
            "1  Rosalind_5959  CCATCGGTAGCGCATCCTTAGTCCAATTAAGTCCCTATCCAGGCGC...\n",
            "2  Rosalind_0808  CCACCCTCGTGGTATGGCTAGGCATTCAGGAACCGGAGAACGCTTC...\n",
            "              ID                                           Sequence  \\\n",
            "0  Rosalind_6404  CCTGCGGAAGATCGGCACTAGAATAGCCAGAACCGTTTCTCTGAGG...   \n",
            "1  Rosalind_5959  CCATCGGTAGCGCATCCTTAGTCCAATTAAGTCCCTATCCAGGCGC...   \n",
            "2  Rosalind_0808  CCACCCTCGTGGTATGGCTAGGCATTCAGGAACCGGAGAACGCTTC...   \n",
            "\n",
            "   GC_Content  \n",
            "0   53.750000  \n",
            "1   53.571429  \n",
            "2   60.919540  \n",
            "Highest GC Content: ID                                                Rosalind_0808\n",
            "Sequence      CCACCCTCGTGGTATGGCTAGGCATTCAGGAACCGGAGAACGCTTC...\n",
            "GC_Content                                             60.91954\n",
            "Name: 2, dtype: object\n"
          ]
        }
      ],
      "source": [
        "import pandas as pd\n",
        "\n",
        "# Sample dataset as a multi-line string\n",
        "data = \"\"\">Rosalind_6404\n",
        "CCTGCGGAAGATCGGCACTAGAATAGCCAGAACCGTTTCTCTGAGGCTTCCGGCCTTCCC\n",
        "TCCCACTAATAATTCTGAGG\n",
        ">Rosalind_5959\n",
        "CCATCGGTAGCGCATCCTTAGTCCAATTAAGTCCCTATCCAGGCGCTCCGCCGAAGGTCT\n",
        "ATATCCATTTGTCAGCAGACACGC\n",
        ">Rosalind_0808\n",
        "CCACCCTCGTGGTATGGCTAGGCATTCAGGAACCGGAGAACGCTTCAGACCAGCCCGGAC\n",
        "TGGGAACCTGCGGGCAGTAGGTGGAAT\"\"\"\n",
        "\n",
        "# Splitting data into lines\n",
        "lines = data.split(\"\\n\")\n",
        "\n",
        "# Dictionary to store sequence data; keys are the ID sequences are the value\n",
        "sequences = {}\n",
        "\n",
        "# Parse the data\n",
        "for line in lines:\n",
        "    if line.startswith(\">\"):\n",
        "        current_label = line[1:]  # Remove \">\" to get the identifier\n",
        "        sequences[current_label] = \"\"  # Initialize an empty string for the sequence\n",
        "    else:\n",
        "        sequences[current_label] += line.strip()  # Append sequence\n",
        "\n",
        "# Convert to a DataFrame\n",
        "seq_df = pd.DataFrame(sequences.items(), columns=[\"ID\", \"Sequence\"])\n",
        "\n",
        "# Display DataFrame\n",
        "print(seq_df)\n",
        "\n",
        "#Return: The ID of the string having the highest GC-content, followed by the GC-content of that string.\n",
        "\n",
        "# Function to calculate GC content\n",
        "def GC_content(sequence):\n",
        "    GC_count = sequence.count('G') + sequence.count('C')\n",
        "    return (GC_count / len(sequence)) * 100\n",
        "\n",
        "# Add column with GC content:\n",
        "seq_df[\"GC_Content\"] = seq_df[\"Sequence\"].apply(GC_content)\n",
        "print(seq_df)\n",
        "\n",
        "# Print ID with max GC content\n",
        "# .idxmax() function finds the index of the maximum value in the \"GC_Content\" column.\n",
        "max_GC_ID = seq_df.loc[seq_df[\"GC_Content\"].idxmax()]\n",
        "print(\"Highest GC Content:\", max_GC_ID)"
      ]
    },
    {
      "cell_type": "code",
      "execution_count": null,
      "metadata": {
        "colab": {
          "base_uri": "https://localhost:8080/"
        },
        "id": "S8gNZJBTDLUk",
        "outputId": "91960560-7b59-4cf8-a904-1b0def1560d2"
      },
      "outputs": [
        {
          "name": "stdout",
          "output_type": "stream",
          "text": [
            "Total mismatches: 7\n"
          ]
        }
      ],
      "source": [
        "##ID: HAMM\n",
        "\n",
        "# The Hamming distance between these two strings is 7. Mismatched symbols are colored red.\n",
        "### Hamming distance = the number of positions where two strings differ.\n",
        "\n",
        "# Given two strings s and t of equal length, the Hamming distance between s and t, denoted dH(s,t),\n",
        "# is the number of corresponding symbols that differ in s and t.\n",
        "\n",
        "## PROBLEM: Given: Two DNA strings s and t of equal length (not exceeding 1 kbp).\n",
        "## Return: The Hamming distance dH(s,t)\n",
        "\n",
        "#Sample Dataset\n",
        "\n",
        "s = 'GAGCCTACTAACGGGAT'\n",
        "t = 'CATCGTAATGACGGCCT'\n",
        "\n",
        "# Variable to store mismatches:\n",
        "mismatched_bases = 0\n",
        "\n",
        "# Iterate through each sequence - At each position i, it grabs the nucleotide (nuc_s) from s, and the corresponding one (nuc_t) from t.\n",
        "for i in range(len(s)):\n",
        "    nuc_s = s[i]\n",
        "    nuc_t = t[i]\n",
        "\n",
        "    if nuc_s != nuc_t:  # Compare\n",
        "        mismatched_bases += 1  # Increase mismatch count if different\n",
        "#So every != becomes a little \"Hamming ping!\"\n",
        "print(\"Total mismatches:\", mismatched_bases)\n"
      ]
    },
    {
      "cell_type": "code",
      "execution_count": null,
      "metadata": {
        "colab": {
          "base_uri": "https://localhost:8080/"
        },
        "id": "t5tEFVT4JF0O",
        "outputId": "15bdba93-24f6-4fdb-c141-9ce85f601e21"
      },
      "outputs": [
        {
          "name": "stdout",
          "output_type": "stream",
          "text": [
            "MAMAPRTEINSTRING\n"
          ]
        }
      ],
      "source": [
        "\n",
        "##ID: PROT\n",
        "\n",
        "#Problem: The 20 commonly occurring amino acids are abbreviated by using 20 letters (all letters except for B, J, O, U, X, and Z).\n",
        "#Protein strings are constructed from these 20 symbols. Henceforth, the term genetic string will incorporate protein strings along with DNA strings and RNA strings.\n",
        "\n",
        "#The RNA codon table dictates the details regarding the encoding of specific codons into the amino acid alphabet.\n",
        "\n",
        "##Given: An RNA string s corresponding to a strand of mRNA (of length at most 10 kbp).\n",
        "##Return: The protein string encoded by s\n",
        "\n",
        "#Sample Dataset\n",
        "RNA = 'AUGGCCAUGGCGCCCAGAACUGAGAUCAAUAGUACCCGUAUUAACGGGUGA'\n",
        "\n",
        "#Create Dictionary\n",
        "aa = {}\n",
        "\n",
        "codon_table = \"\"\"\n",
        "UUU F    CUU L    AUU I    GUU V\n",
        "UUC F    CUC L    AUC I    GUC V\n",
        "UUA L    CUA L    AUA I    GUA V\n",
        "UUG L    CUG L    AUG M    GUG V\n",
        "UCU S    CCU P    ACU T    GCU A\n",
        "UCC S    CCC P    ACC T    GCC A\n",
        "UCA S    CCA P    ACA T    GCA A\n",
        "UCG S    CCG P    ACG T    GCG A\n",
        "UAU Y    CAU H    AAU N    GAU D\n",
        "UAC Y    CAC H    AAC N    GAC D\n",
        "UAA Stop CAA Q    AAA K    GAA E\n",
        "UAG Stop CAG Q    AAG K    GAG E\n",
        "UGU C    CGU R    AGU S    GGU G\n",
        "UGC C    CGC R    AGC S    GGC G\n",
        "UGA Stop CGA R    AGA R    GGA G\n",
        "UGG W    CGG R    AGG R    GGG G\n",
        "\"\"\"\n",
        "\n",
        "# Process the raw codon table\n",
        "for line in codon_table.strip().split(\"\\n\"):  # Split into lines\n",
        "    Codon_AA = line.split()  # Split each line into parts (codon, amino acid)\n",
        "    for i in range(0, len(Codon_AA), 2):  # Process in pairs (codon, amino acid)\n",
        "        codon = Codon_AA[i]\n",
        "        amino_acid = Codon_AA[i+1]\n",
        "        aa[codon] = amino_acid  # Add to dictionary\n",
        "\n",
        "translated_RNA = \"\"\n",
        "for i in range(0, len(RNA), 3):\n",
        "    codon = RNA[i:i+3]\n",
        "    #print(codon)\n",
        "    if aa[codon] == \"Stop\":\n",
        "        break\n",
        "    translated_RNA += aa[codon] #appending the amino acid corresponding to each codon to a string called translated_RNA\n",
        "\n",
        "print(translated_RNA)"
      ]
    },
    {
      "cell_type": "code",
      "execution_count": null,
      "metadata": {
        "colab": {
          "base_uri": "https://localhost:8080/"
        },
        "id": "5KWcZEmMLcBC",
        "outputId": "82c5bce3-6cbd-476c-da90-e339046807c4"
      },
      "outputs": [
        {
          "name": "stdout",
          "output_type": "stream",
          "text": [
            "[2, 4, 10]\n"
          ]
        }
      ],
      "source": [
        "###ID: SUBS\n",
        "###Finding a Motif in DNA\n",
        "#Problem: Given two strings s and t, t is a substring of s if t is contained as a contiguous collection of symbols in s (as a result, t must be no longer than s).\n",
        "#Given: Two DNA strings s and t (each of length at most 1 kbp).\n",
        "# Return: All locations of t as a substring of s.\n",
        "\n",
        "### Sample Dataset\n",
        "# GATATATGCATATACTT\n",
        "# ATAT\n",
        "\n",
        "## PROCESS:\n",
        "#1 Identify where the motif \"ATAT\" appears in the string, starting with the first position, by iterating through s, checking if the substring starting at each position matches 𝑡:\n",
        "### for loop: determine how many starting positions of the substring exist in s\n",
        "#2 Store 1-based positions of matches\n",
        "#3 Check if substring matches t\n",
        "#4 Convert 0-based to 1-based index\n",
        "s = 'GATATATGCATATACTT'\n",
        "t = 'ATAT'\n",
        "\n",
        "# for i in range(len(s) - len(t) + 1):  # Iterate through possible start positions within s\n",
        "#     if s[i:i+len(t)] == t:  # extracts a substring from s, starting at index i and ending at i + len(t), and checks if it equals \"ATAT\"\n",
        "#         print(i + 1)  # Convert to 1-based index\n",
        "\n",
        "def ATAT_motif_locations(s, t):\n",
        "    positions = []  # Store 1-based positions of matches\n",
        "    for i in range(len(s) - len(t) + 1):  # Iterate through s\n",
        "        if s[i:i+len(t)] == t:  # Check if substring matches t\n",
        "            positions.append(i + 1)  # Convert 0-based to 1-based index\n",
        "    return positions #return the positions list\n",
        "\n",
        "# Call the function to get the positions and then print them\n",
        "positions = ATAT_motif_locations(s, t)\n",
        "print(positions)"
      ]
    },
    {
      "cell_type": "code",
      "execution_count": null,
      "metadata": {
        "colab": {
          "base_uri": "https://localhost:8080/"
        },
        "id": "Lz0RQxH8trXm",
        "outputId": "80ed410d-8989-489a-fa89-19f05e3d0cc5"
      },
      "outputs": [
        {
          "name": "stdout",
          "output_type": "stream",
          "text": [
            "821.3919199999999\n"
          ]
        }
      ],
      "source": [
        "###ID: PRTM\n",
        "##Problem: In a weighted alphabet, every symbol is assigned a positive real number called a weight. A string formed from a weighted alphabet is called a weighted string,\n",
        "#and its weight is equal to the sum of the weights of its symbols. The standard weight assigned to each member of the 20-symbol amino acid alphabet is the monoisotopic mass of the corresponding amino acid.\n",
        "\n",
        "#Given: A protein string P of length at most 1000 aa.\n",
        "#Return: The total weight of P (Consult the monoisotopic mass table)\n",
        "\n",
        "### Approach:\n",
        "#1 make a dictionary to store amino acid:specific monoisotopic mass\n",
        "#2 Iterate Through the Protein Stringand retireve the mass from dictionary\n",
        "#3 Sum up all the retrieved values\n",
        "\n",
        "###Sample Dataset\n",
        "p = 'SKADYEK'\n",
        "\n",
        "monoisotopic_mass_table = {\n",
        "    'A': 71.03711, 'C': 103.00919, 'D': 115.02694, 'E': 129.04259,\n",
        "    'F': 147.06841, 'G': 57.02146, 'H': 137.05891, 'I': 113.08406,\n",
        "    'K': 128.09496, 'L': 113.08406, 'M': 131.04049, 'N': 114.04293,\n",
        "    'P': 97.05276, 'Q': 128.05858, 'R': 156.10111, 'S': 87.03203,\n",
        "    'T': 101.04768, 'V': 99.06841, 'W': 186.07931, 'Y': 163.06333\n",
        "}\n",
        "\n",
        "total_mass = 0\n",
        "\n",
        "for aa in p:\n",
        "  mass = monoisotopic_mass_table[aa]\n",
        "  total_mass += mass\n",
        "print(total_mass)"
      ]
    },
    {
      "cell_type": "code",
      "execution_count": null,
      "metadata": {
        "colab": {
          "base_uri": "https://localhost:8080/"
        },
        "id": "HVRnlYvMYXfK",
        "outputId": "8de5f48a-f02a-402f-aa9a-e228598d060b"
      },
      "outputs": [
        {
          "name": "stdout",
          "output_type": "stream",
          "text": [
            "MVYIADKQHVASREAYGHMFKVCA\n"
          ]
        }
      ],
      "source": [
        "###ID: SPLC (RNA Splicing)\n",
        "#Problem:After identifying the exons and introns of an RNA string, we only need to delete the introns and concatenate the exons to form a new string ready for translation.\n",
        "## Given: A DNA string s (of length at most 1 kbp) and a collection of substrings of sacting as introns. All strings are given in FASTA format.\n",
        "## Return: A protein string resulting from transcribing and translating the exons of s (Note: Only one solution will exist for the dataset provided.)\n",
        "\n",
        "#Sample Dataset\n",
        "# >Rosalind_10\n",
        "# ATGGTCTACATAGCTGACAAACAGCACGTAGCAATCGGTCGAATCTCGAGAGGCATATGGTCACATGATCGGTCGAGCGTGTTTCAAAGTTTGCGCCTAG\n",
        "# >Rosalind_12\n",
        "# ATCGGTCGAA\n",
        "# >Rosalind_15\n",
        "# ATCGGTCGAGCGTGT\n",
        "\n",
        "##1 - Parse the FASTA file so that each FASTA seq can be accessed by its ID\n",
        "fasta_dict = {\n",
        "    \"Rosalind_10\": \"ATGGTCTACATAGCTGACAAACAGCACGTAGCAATCGGTCGAATCTCGAGAGGCATATGGTCACATGATCGGTCGAGCGTGTTTCAAAGTTTGCGCCTAG\",\n",
        "    \"Rosalind_12\": \"ATCGGTCGAA\",\n",
        "    \"Rosalind_15\": \"ATCGGTCGAGCGTGT\"\n",
        "}\n",
        "#print(fasta_dict)\n",
        "\n",
        "##2 distinguish between DNA and introns\n",
        "main_seq = list(fasta_dict.values())[0]  # Rosalind_10 is the first entry\n",
        "introns = list(fasta_dict.values())[1:]  # everything else\n",
        "\n",
        "##3 Remove introns\n",
        "for seq in introns:\n",
        "    main_seq = main_seq.replace(seq, \"\")  #replace every intron seq in main seq with 0 characters (\"splice\")\n",
        "\n",
        "#print(\"Spliced sequence:\", main_seq)\n",
        "\n",
        "##4) turn this into a protein sequence - will need a dictionary\n",
        "\n",
        "codon_AA = {\n",
        "    'TTT': 'F', 'TTC': 'F', 'TTA': 'L', 'TTG': 'L',\n",
        "    'CTT': 'L', 'CTC': 'L', 'CTA': 'L', 'CTG': 'L',\n",
        "    'ATT': 'I', 'ATC': 'I', 'ATA': 'I', 'ATG': 'M',\n",
        "    'GTT': 'V', 'GTC': 'V', 'GTA': 'V', 'GTG': 'V',\n",
        "    'TCT': 'S', 'TCC': 'S', 'TCA': 'S', 'TCG': 'S',\n",
        "    'CCT': 'P', 'CCC': 'P', 'CCA': 'P', 'CCG': 'P',\n",
        "    'ACT': 'T', 'ACC': 'T', 'ACA': 'T', 'ACG': 'T',\n",
        "    'GCT': 'A', 'GCC': 'A', 'GCA': 'A', 'GCG': 'A',\n",
        "    'TAT': 'Y', 'TAC': 'Y', 'TAA': '',  'TAG': '',\n",
        "    'CAT': 'H', 'CAC': 'H', 'CAA': 'Q', 'CAG': 'Q',\n",
        "    'AAT': 'N', 'AAC': 'N', 'AAA': 'K', 'AAG': 'K',\n",
        "    'GAT': 'D', 'GAC': 'D', 'GAA': 'E', 'GAG': 'E',\n",
        "    'TGT': 'C', 'TGC': 'C', 'TGA': '',  'TGG': 'W',\n",
        "    'CGT': 'R', 'CGC': 'R', 'CGA': 'R', 'CGG': 'R',\n",
        "    'AGT': 'S', 'AGC': 'S', 'AGA': 'R', 'AGG': 'R',\n",
        "    'GGT': 'G', 'GGC': 'G', 'GGA': 'G', 'GGG': 'G'\n",
        "  }\n",
        "\n",
        "##5 parse through the spliced sequence by 3s...\n",
        "# Find first occurrence of start codon (ATG)\n",
        "start_index = main_seq.find(\"ATG\")\n",
        "\n",
        "# If found, slice the sequence starting from there\n",
        "if start_index != -1: #any postive integer will refer to the index start site of ATG, but a -1 means no ATG detected\n",
        "    coding_seq = main_seq[start_index:] # this starts the new string at the start codon and goes to the end of the string\n",
        "else:\n",
        "    coding_seq = \"No start codon found\"\n",
        "## create an empty string for the protein code:\n",
        "protein = \"\"\n",
        "\n",
        "## Iterate by 3's\n",
        "for i in range(0, len(coding_seq), 3):#start at index 0 (i.e. ATG); go through entire string; 3 characters/iteration\n",
        "  codon = coding_seq[i:i+3]  #creating a 'string' for each codon by grabbing 3 characters at a time—starting at position i (stored in memory for next function/use)\n",
        "  aa = codon_AA.get(codon, '')\n",
        "  if aa == \" \": #indicates stop codon (TAA, e.g.)\n",
        "        break\n",
        "  if len(codon) < 3:\n",
        "        break  # Skip incomplete codons\n",
        "  protein += aa #append  new amino acid to the protein string\n",
        "print(protein)"
      ]
    },
    {
      "cell_type": "markdown",
      "metadata": {
        "id": "ZesWq-rj9yDa"
      },
      "source": [
        "**Figure 2. Palindromic Recognition Site**\n",
        "\n",
        "![alt text](https://rosalind.info/media/problems/revp/palindrome.png)"
      ]
    },
    {
      "cell_type": "code",
      "execution_count": null,
      "metadata": {
        "colab": {
          "base_uri": "https://localhost:8080/"
        },
        "id": "7IyGIBerF4Sp",
        "outputId": "06873ee6-faec-4141-e1d8-e569cf5fbfd4"
      },
      "outputs": [
        {
          "name": "stdout",
          "output_type": "stream",
          "text": [
            "{'Rosalind_24': 'TCAATGCATGCGGGTCTATATGCAT'}\n",
            "ATGCATATAGACCCGCATGCATTGA\n",
            "4 6\n",
            "5 4\n",
            "6 6\n",
            "7 4\n",
            "17 4\n",
            "18 4\n",
            "20 6\n",
            "21 4\n"
          ]
        }
      ],
      "source": [
        "##ID: REVP\n",
        "# Problem\n",
        "# A DNA string is a reverse palindrome if it is equal to its reverse complement.\n",
        "# For instance, GCATGC is a reverse palindrome because its reverse complement is GCATGC. See Figure 2.\n",
        "\n",
        "# Given: A DNA string of length at most 1 kbp in FASTA format.\n",
        "# Return: The position and length of every reverse palindrome in the string having length between 4 and 12. You may return these pairs in any order.\n",
        "\n",
        "Sample_Dataset = \\\n",
        "\">Rosalind_24\\n\\\n",
        "TCAATGCATGCGGGTCTATATGCAT\"\n",
        "\n",
        "# #1 Exract the sequence:\n",
        "# fasta_dict = {\n",
        "#     \"Rosalind_24\": \"TCAATGCATGCGGGTCTATATGCAT\"\n",
        "# }\n",
        "\n",
        "fasta_dict = {}\n",
        "#can also do it without knowing:\n",
        "for line in Sample_Dataset.split('\\n'):\n",
        "      line = line.strip()\n",
        "      if line.startswith(\">\"):\n",
        "        current_id = line[1:]  # slice from the 2nd character/index 1\n",
        "        fasta_dict[current_id] = \"\"  # initialize new string in dictionary with key 'current_ID' and value = empty string\n",
        "      else: #anything but the header - in this case it's the sequence\n",
        "        fasta_dict[current_id] += line  # add/append sequence data to its ID\n",
        "print(fasta_dict)\n",
        "\n",
        "#2) Grab the sequence\n",
        "seq = list(fasta_dict.values())[0]\n",
        "\n",
        "#Incase you wanted to reference the ID:\n",
        "list(fasta_dict.keys())[0]\n",
        "\n",
        "#3) For every substring of length 4 to 12, check if it’s equal to its reverse complement.\n",
        "    ### Loop through all substrings 4-12 characters\n",
        "    ### if substring == reverse_complement; then it's a reverse palindrome, print:\n",
        "    # starting position and length\n",
        "\n",
        "def rev_comp(seq):\n",
        "    comp = {\"A\": \"T\", \"T\": \"A\", \"C\": \"G\", \"G\": \"C\"}\n",
        "    rev_seq = seq[::-1]  #reversed string\n",
        "    result = \"\" #initialize empty string\n",
        "    for base in rev_seq:\n",
        "        result += comp[base]\n",
        "    return result\n",
        "print(rev_comp(seq))\n",
        "\n",
        "#A more efficienct way:  return ''.join(comp[base] for base in seq[::-1]); doesn't rewrite the string each time\n",
        "\n",
        "for i in range(len(seq)):\n",
        "    for length in range(4, 13):  # Lengths 4 to 12 inclusive (sliding window-like)\n",
        "        if i + length > len(seq):\n",
        "            continue  # Skip if it goes past the end\n",
        "\n",
        "        substring = seq[i:i+length] #indexing each new substring as it progresses through the seq\n",
        "        rev_comp_substring = rev_comp(substring) # call function and store return value to new variable\n",
        "\n",
        "        if substring == rev_comp_substring:  # compare original and reverse to check for palindromes\n",
        "          print(i + 1, length)  # 1-based indexing"
      ]
    },
    {
      "cell_type": "code",
      "execution_count": null,
      "metadata": {
        "colab": {
          "base_uri": "https://localhost:8080/"
        },
        "id": "NukO6Oi7F-L7",
        "outputId": "a899d625-35b9-4856-ee8d-f90820dc7fad"
      },
      "outputs": [
        {
          "name": "stdout",
          "output_type": "stream",
          "text": [
            "{'Rosalind_0209': 'GCAACGCACAACGAAAACCCTTAGGGACTGGATTATTTCGTGATCGTTGTAGTTATTGGAAGTACGGGCATCAACCCAGTT', 'Rosalind_2200': 'TTATCTGACAAAGAAAGCCGTCAACGGCTGGATAATTTCGCGATCGTGCTGGTTACTGGCGGTACGAGTGTTCCTTTGGGT'}\n",
            "Ratio 1.2142857142857142\n",
            "Transversions: 14\n",
            "Transitions: 17\n"
          ]
        }
      ],
      "source": [
        "##ID: TRAN\n",
        "# Problem: For DNA strings s1 and s2 having the same length, their transition/transversion ratio R(s1,s2) is the ratio of the total number of transitions to the total number of transversions\n",
        "# where symbol substitutions are inferred from mismatched corresponding symbols as when calculating Hamming distance (see “Counting Point Mutations”)\n",
        "## Given: Two DNA strings s1 and s2 of equal length (at most 1 kbp).\n",
        "## Return: The transition/transversion ratio R(s1,s2)\n",
        "\n",
        "Sample_Dataset_T = \\\n",
        "\">Rosalind_0209\\n\\\n",
        "GCAACGCACAACGAAAACCCTTAGGGACTGGATTATTTCGTGATCGTTGTAGTTATTGGA\\n\\\n",
        "AGTACGGGCATCAACCCAGTT\\n\\\n",
        ">Rosalind_2200\\n\\\n",
        "TTATCTGACAAAGAAAGCCGTCAACGGCTGGATAATTTCGCGATCGTGCTGGTTACTGGC\\n\\\n",
        "GGTACGAGTGTTCCTTTGGGT\"\n",
        "\n",
        "#1) As always make FASTA sequences into a dictionary\n",
        "fasta_dict_T = {}\n",
        "for line in Sample_Dataset_T.split('\\n'):\n",
        "      line = line.strip()\n",
        "      if line.startswith(\">\"):\n",
        "        current_id = line[1:]  # slice from the 2nd character/index 1\n",
        "        fasta_dict_T[current_id] = \"\"  # initialize new string in dictionary with key 'current_ID' and value = empty string\n",
        "      else: #anything but the header - in this case it's the sequence\n",
        "        fasta_dict_T[current_id] += line  # add/append sequence data to its ID\n",
        "print(fasta_dict_T)\n",
        "\n",
        "#2) Assigning variables from problem\n",
        "s1 = fasta_dict_T[\"Rosalind_0209\"]\n",
        "s2 = fasta_dict_T[\"Rosalind_2200\"]\n",
        "\n",
        "#3) Create a function for identifying transversions and transitions\n",
        "### Transitions: purine-to-purine (A ↔ G) or pyrimidine-to-pyrimidine (C ↔ T) substitutions\n",
        "### Transversions: purine-to-pyrimidine or vice versa (A/G ↔ C/T).\n",
        "\n",
        "transition_pairs = [('A', 'G'), ('G', 'A'), ('C', 'T'), ('T', 'C')]\n",
        "\n",
        "# Step 2: Set counters to zero\n",
        "# transitions = 0\n",
        "# transversions = 0\n",
        "\n",
        "#3 Loop through both sequences at once\n",
        "# for i in range(len(s1)):\n",
        "#     base1 = s1[i]\n",
        "#     base2 = s2[i]\n",
        "\n",
        "#     if base1 != base2:\n",
        "#         if (base1, base2) in transition_pairs:\n",
        "#             transitions += 1\n",
        "#         else:\n",
        "#             transversions += 1\n",
        "\n",
        "#5) Create a function\n",
        "\n",
        "def calculate_transition_transversion_ratio(s1, s2):\n",
        "    transition_pairs = [('A', 'G'), ('G', 'A'), ('C', 'T'), ('T', 'C')]\n",
        "    transitions = 0\n",
        "    transversions = 0\n",
        "\n",
        "    for i in range(len(s1)):\n",
        "        base1 = s1[i]\n",
        "        base2 = s2[i]\n",
        "\n",
        "        if base1 != base2:\n",
        "            if (base1, base2) in transition_pairs:\n",
        "                transitions += 1\n",
        "            else:\n",
        "                transversions += 1\n",
        "\n",
        "    if transversions == 0: # You'll get a division by zero\n",
        "        return float('inf')  # Instead of crashing, return \"infinity\"\n",
        "    return transitions / transversions, transitions, transversions\n",
        "\n",
        "#If you want to see # of transitions and transverssions alone,\n",
        "#you have to Assign the returned values to variables outside the function (Call the function with the desired variables)\n",
        "ratio, transitions, transversions = calculate_transition_transversion_ratio(s1, s2)\n",
        "\n",
        "print(\"Ratio\", ratio)\n",
        "print(\"Transversions:\", transversions)\n",
        "print(\"Transitions:\", transitions)\n"
      ]
    },
    {
      "cell_type": "markdown",
      "metadata": {},
      "source": [
        "# ID: LCSM\n",
        "Problem\n",
        "A common substring of a collection of strings is a substring of every member of the collection.\n",
        "We say that a common substring is a longest common substring if there does not exist a longer common substring.\n",
        "For example, \"CG\" is a common substring of \"ACGTACGT\" and \"AACCGTATA\", but it is not as long as possible; in this case, \"CGTA\" is a longest common substring of \"ACGTACGT\" and \"AACCGTATA\".\n",
        "Note that the longest common substring is not necessarily unique; for a simple example, \"AA\" and \"CC\" are both longest common substrings of \"AACC\" and \"CCAA\".\n",
        "\n",
        "Given: A collection of k(k≤100) DNA strings of length at most 1 kbp each in FASTA format.\n",
        "Return: A longest common substring of the collection. (If multiple solutions exist, you may return any single solution.)"
      ]
    },
    {
      "cell_type": "code",
      "execution_count": null,
      "metadata": {
        "colab": {
          "base_uri": "https://localhost:8080/"
        },
        "id": "NILTXJccGCYs",
        "outputId": "b34989fc-81d3-4304-c22e-2205a047488e"
      },
      "outputs": [
        {
          "name": "stdout",
          "output_type": "stream",
          "text": [
            "TA\n",
            "['TA', 'AC', 'CA']\n"
          ]
        }
      ],
      "source": [
        "Sample_Dataset_LCSM = \"\"\"\n",
        ">Rosalind_1\n",
        "GATTACA\n",
        ">Rosalind_2\n",
        "TAGACCA\n",
        ">Rosalind_3\n",
        "ATACA\n",
        "\"\"\"\n",
        "\n",
        "#Logic... start with one string and generate all the substrings of that string\n",
        "#The substrings should be 1 base - length of the string\n",
        "#### Example - rosalind_3:\n",
        "# Len 5: \"ATACA\"\n",
        "# Len 4: \"ATAC\", \"TACA\"\n",
        "# Len 3: \"ATA\", \"TAC\", \"ACA\"\n",
        "# Len 2: \"AT\", \"TA\", \"AC\", \"CA\"\n",
        "# Len 1: \"A\", \"T\", \"C\"\n",
        "\n",
        "#1) as always set up the FASTA data structure\n",
        "fasta_dict_LCSM = {}\n",
        "current_id = None\n",
        "\n",
        "for line in Sample_Dataset_LCSM.strip().split('\\n'): #.strip() moves everything ito one line (but keeps \\n); .split('\\n') splits string into a list every newline\n",
        "      line = line.strip()\n",
        "      if line.startswith(\">\"):\n",
        "        current_id = line[1:]  # slice from the 2nd character/index 1\n",
        "        fasta_dict_LCSM[current_id] = \"\"  # initialize new string in dictionary with key 'current_ID' and value = empty string\n",
        "      else: #anything but the header - in this case it's the sequence\n",
        "        fasta_dict_LCSM[current_id] +=line\n",
        "\n",
        "#print (fasta_dict_LCSM)\n",
        "#looking at just the sequences:\n",
        "\n",
        "sequences = list(fasta_dict_LCSM.values())\n",
        "#print(sequences)\n",
        "shortest_seq = min(sequences, key=len) #min(...) finds the smallest thing in the list\n",
        "#print(shortest_seq)\n",
        "\n",
        "#Logic... end goal is to find the longest identical substring across all sequences\n",
        "\n",
        "def ID_longest_substring(sequences):\n",
        "  shortest_seq = min(sequences, key=len)\n",
        "  longest_substring = \"\"\n",
        "  # Step 1: make a list of all possible substrings\n",
        "  substrings = []\n",
        "  for i in range(len(shortest_seq)):\n",
        "    for e in range(i + 1, len(shortest_seq) + 1): #e is the exlusive position at end of the sequence; include last base by +1\n",
        "      substrings.append(shortest_seq[i:e])\n",
        "#print(substrings)\n",
        "#3) now we want to see if any of the substrings are in the other sequences, and then find the longest one\n",
        "  longest_substring = \"\"\n",
        "  for substring in substrings:\n",
        "    is_present = True\n",
        "    for seq in sequences:\n",
        "        if substring not in seq:\n",
        "          is_present = False\n",
        "          break  # stop checking if even one sequence doesn't have it\n",
        "\n",
        "    if is_present and len(substring) > len(longest_substring):\n",
        "            longest_substring = substring\n",
        "  return longest_substring\n",
        "\n",
        "print(ID_longest_substring(sequences))\n",
        "\n",
        "# since there are multiple longest common substrings of the same length — and you want to return all of them, not just the first.\n",
        "\n",
        "def ID_all_longest_common_substrings(sequences):\n",
        "    shortest_seq = min(sequences, key=len)\n",
        "    substrings = []\n",
        "\n",
        "    for i in range(len(shortest_seq)):\n",
        "        for e in range(i + 1, len(shortest_seq) + 1):\n",
        "            substrings.append(shortest_seq[i:e])\n",
        "\n",
        "    longest_substrings = [] #this is a list instead of a string\n",
        "    max_len = 0             # track the longest substring (length) to use a reference for keeping or discarding future substrings\n",
        "\n",
        "    for substring in substrings:\n",
        "        is_present = True\n",
        "        for seq in sequences:\n",
        "            if substring not in seq:\n",
        "                is_present = False\n",
        "                break\n",
        "\n",
        "        if is_present:\n",
        "            if len(substring) > max_len:\n",
        "                # New longest found — reset the list\n",
        "                max_len = len(substring)\n",
        "                longest_substrings = [substring]\n",
        "            elif len(substring) == max_len:\n",
        "                # Same length as current longest — add to the list\n",
        "                longest_substrings.append(substring)\n",
        "\n",
        "    return longest_substrings\n",
        "print (ID_all_longest_common_substrings(sequences))"
      ]
    },
    {
      "cell_type": "markdown",
      "metadata": {
        "id": "W83WYHDZGGh8"
      },
      "source": [
        "# ID: ORF\n",
        "\n",
        "Either strand of a DNA double helix can serve as the coding strand for RNA transcription. Hence, a given DNA string implies six total reading frames, or ways in which the same region of DNA can be translated into amino acids: three reading frames result from reading the string itself, whereas three more result from reading its reverse complement.\n",
        "\n",
        "An open reading frame (ORF) is one which starts from the start codon and ends by stop codon, without any other stop codons in between. Thus, a candidate protein string is derived by translating an open reading frame into amino acids until a stop codon is reached.\n",
        "\n",
        "Given: A DNA string s\n",
        " of length at most 1 kbp in FASTA format.\n",
        "\n",
        "Return: Every distinct candidate protein string that can be translated from ORFs of s\n",
        ". Strings can be returned in any order.\n",
        "\n",
        "Sample Dataset\n",
        ">Rosalind_99\n",
        "AGCCATGTAGCTAACTCAGGTTACATGGGGATGACCCCGCGACTTGGATTAGAGTCTCTTTTGGAATAAGCCTGAATGATCCGAGTAGCATCTCAG"
      ]
    },
    {
      "cell_type": "code",
      "execution_count": null,
      "metadata": {},
      "outputs": [],
      "source": [
        "pip install Biopython "
      ]
    },
    {
      "cell_type": "code",
      "execution_count": null,
      "metadata": {},
      "outputs": [],
      "source": [
        "from Bio.Data import CodonTable\n",
        "\n",
        "import types\n",
        "print(type(CodonTable))\n",
        "print(dir(CodonTable)) #list contents of module\n",
        "\n",
        "#looking for prebuilt dictionaries:\n",
        "[n for n in dir(CodonTable) if \"by_\" in n]\n",
        "type(CodonTable.unambiguous_dna_by_name)\n",
        "list(CodonTable.unambiguous_dna_by_name.keys())[:10]  "
      ]
    },
    {
      "cell_type": "code",
      "execution_count": null,
      "metadata": {},
      "outputs": [],
      "source": [
        "#grab standard:\n",
        "std = CodonTable.unambiguous_dna_by_name[\"Standard\"]\n",
        "\n",
        "print(dir(std))\n",
        "print(std.forward_table)\n",
        "print(std.start_codons)\n",
        "\n",
        "#assign to variable\n",
        "aa_dict = std.forward_table\n",
        "list(aa_dict.items())[:5]"
      ]
    },
    {
      "cell_type": "code",
      "execution_count": null,
      "metadata": {},
      "outputs": [],
      "source": [
        "#Import Seq\n",
        "Sample_Data = '''\n",
        ">Rosalind_99\n",
        "AGCCATGTAGCTAACTCAGGTTACATGGGGATGACCCCGCGACTTGGATTAGAGTCTCTTTTGGAATAAGCCTGAATGATCCGAGTAGCATCTCAG\n",
        "'''\n",
        "\n",
        "seq2 = \"\".join(line.strip() for line in Sample_Data.splitlines()\n",
        "    if line and not line.startswith(\">\"))"
      ]
    },
    {
      "cell_type": "code",
      "execution_count": null,
      "metadata": {},
      "outputs": [
        {
          "data": {
            "text/plain": [
              "'SHVANSGYMGMTPRLGLESLME'"
            ]
          },
          "execution_count": 56,
          "metadata": {},
          "output_type": "execute_result"
        }
      ],
      "source": [
        "#ID start codons backwards and fwds **STILL WORKING ON THIS***\n",
        "\n",
        "start_codons = set(std.start_codons)\n",
        "stop_codons  = set(std.stop_codons)\n",
        "\n",
        "def translate(DNA_seq):\n",
        "    protein = []\n",
        "    for i in range(0, len(DNA_seq)-2, 3):#len(seq)-2 --> stop 2 bases before the end\n",
        "        codon = DNA_seq[i:i+3]\n",
        "        if codon in stop_codons:\n",
        "            break\n",
        "        if codon in start_codons:\n",
        "           protein.append('M')   # start codon always codes Methionine\n",
        "        else:\n",
        "            protein.append(aa_dict.get(codon, 'x'))\n",
        "    return ''.join(protein)  \n",
        "\n",
        "translate(seq2)"
      ]
    },
    {
      "cell_type": "code",
      "execution_count": null,
      "metadata": {
        "colab": {
          "base_uri": "https://localhost:8080/",
          "height": 182
        },
        "id": "S6Q9ghOWn551",
        "outputId": "35c3db5d-b1c2-4397-98fa-812436f62a09"
      },
      "outputs": [],
      "source": [
        "# def chunk_string(s, n=60):    #s: the string you pass into the function (full DNA sequence like \"ATCGGGTATTAA\").\n",
        "#     return [s[i:i+n] for i in range(0, len(s), n)]    #n = # of characters\n",
        "\n",
        "# fasta_list = {k: chunk_string(v) for k, v in fasta_str.items()}"
      ]
    }
  ],
  "metadata": {
    "colab": {
      "include_colab_link": true,
      "provenance": []
    },
    "kernelspec": {
      "display_name": "vs-py",
      "language": "python",
      "name": "python3"
    },
    "language_info": {
      "codemirror_mode": {
        "name": "ipython",
        "version": 3
      },
      "file_extension": ".py",
      "mimetype": "text/x-python",
      "name": "python",
      "nbconvert_exporter": "python",
      "pygments_lexer": "ipython3",
      "version": "3.11.13"
    }
  },
  "nbformat": 4,
  "nbformat_minor": 0
}
